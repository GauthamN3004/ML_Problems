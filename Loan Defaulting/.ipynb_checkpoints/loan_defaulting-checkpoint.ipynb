{
 "cells": [
  {
   "cell_type": "code",
   "execution_count": 1,
   "metadata": {},
   "outputs": [],
   "source": [
    "import pandas as pd\n",
    "import numpy as np\n",
    "import matplotlib.pyplot as plt\n",
    "import seaborn as sns\n",
    "from sklearn.linear_model import LinearRegression\n",
    "from sklearn.cluster import KMeans\n",
    "from sklearn.model_selection import GridSearchCV,train_test_split\n",
    "from sklearn.metrics import jaccard_similarity_score"
   ]
  },
  {
   "cell_type": "code",
   "execution_count": 2,
   "metadata": {},
   "outputs": [
    {
     "data": {
      "text/html": [
       "<div>\n",
       "<style scoped>\n",
       "    .dataframe tbody tr th:only-of-type {\n",
       "        vertical-align: middle;\n",
       "    }\n",
       "\n",
       "    .dataframe tbody tr th {\n",
       "        vertical-align: top;\n",
       "    }\n",
       "\n",
       "    .dataframe thead th {\n",
       "        text-align: right;\n",
       "    }\n",
       "</style>\n",
       "<table border=\"1\" class=\"dataframe\">\n",
       "  <thead>\n",
       "    <tr style=\"text-align: right;\">\n",
       "      <th></th>\n",
       "      <th>Id</th>\n",
       "      <th>Home Ownership</th>\n",
       "      <th>Annual Income</th>\n",
       "      <th>Years in current job</th>\n",
       "      <th>Tax Liens</th>\n",
       "      <th>Number of Open Accounts</th>\n",
       "      <th>Years of Credit History</th>\n",
       "      <th>Maximum Open Credit</th>\n",
       "      <th>Number of Credit Problems</th>\n",
       "      <th>Months since last delinquent</th>\n",
       "      <th>Bankruptcies</th>\n",
       "      <th>Purpose</th>\n",
       "      <th>Term</th>\n",
       "      <th>Current Loan Amount</th>\n",
       "      <th>Current Credit Balance</th>\n",
       "      <th>Monthly Debt</th>\n",
       "      <th>Credit Score</th>\n",
       "      <th>Credit Default</th>\n",
       "    </tr>\n",
       "  </thead>\n",
       "  <tbody>\n",
       "    <tr>\n",
       "      <th>0</th>\n",
       "      <td>0</td>\n",
       "      <td>Own Home</td>\n",
       "      <td>482087.0</td>\n",
       "      <td>NaN</td>\n",
       "      <td>0.0</td>\n",
       "      <td>11.0</td>\n",
       "      <td>26.3</td>\n",
       "      <td>685960.0</td>\n",
       "      <td>1.0</td>\n",
       "      <td>NaN</td>\n",
       "      <td>1.0</td>\n",
       "      <td>debt consolidation</td>\n",
       "      <td>Short Term</td>\n",
       "      <td>99999999.0</td>\n",
       "      <td>47386.0</td>\n",
       "      <td>7914.0</td>\n",
       "      <td>749.0</td>\n",
       "      <td>0</td>\n",
       "    </tr>\n",
       "    <tr>\n",
       "      <th>1</th>\n",
       "      <td>1</td>\n",
       "      <td>Own Home</td>\n",
       "      <td>1025487.0</td>\n",
       "      <td>10+ years</td>\n",
       "      <td>0.0</td>\n",
       "      <td>15.0</td>\n",
       "      <td>15.3</td>\n",
       "      <td>1181730.0</td>\n",
       "      <td>0.0</td>\n",
       "      <td>NaN</td>\n",
       "      <td>0.0</td>\n",
       "      <td>debt consolidation</td>\n",
       "      <td>Long Term</td>\n",
       "      <td>264968.0</td>\n",
       "      <td>394972.0</td>\n",
       "      <td>18373.0</td>\n",
       "      <td>737.0</td>\n",
       "      <td>1</td>\n",
       "    </tr>\n",
       "    <tr>\n",
       "      <th>2</th>\n",
       "      <td>2</td>\n",
       "      <td>Home Mortgage</td>\n",
       "      <td>751412.0</td>\n",
       "      <td>8 years</td>\n",
       "      <td>0.0</td>\n",
       "      <td>11.0</td>\n",
       "      <td>35.0</td>\n",
       "      <td>1182434.0</td>\n",
       "      <td>0.0</td>\n",
       "      <td>NaN</td>\n",
       "      <td>0.0</td>\n",
       "      <td>debt consolidation</td>\n",
       "      <td>Short Term</td>\n",
       "      <td>99999999.0</td>\n",
       "      <td>308389.0</td>\n",
       "      <td>13651.0</td>\n",
       "      <td>742.0</td>\n",
       "      <td>0</td>\n",
       "    </tr>\n",
       "    <tr>\n",
       "      <th>3</th>\n",
       "      <td>3</td>\n",
       "      <td>Own Home</td>\n",
       "      <td>805068.0</td>\n",
       "      <td>6 years</td>\n",
       "      <td>0.0</td>\n",
       "      <td>8.0</td>\n",
       "      <td>22.5</td>\n",
       "      <td>147400.0</td>\n",
       "      <td>1.0</td>\n",
       "      <td>NaN</td>\n",
       "      <td>1.0</td>\n",
       "      <td>debt consolidation</td>\n",
       "      <td>Short Term</td>\n",
       "      <td>121396.0</td>\n",
       "      <td>95855.0</td>\n",
       "      <td>11338.0</td>\n",
       "      <td>694.0</td>\n",
       "      <td>0</td>\n",
       "    </tr>\n",
       "    <tr>\n",
       "      <th>4</th>\n",
       "      <td>4</td>\n",
       "      <td>Rent</td>\n",
       "      <td>776264.0</td>\n",
       "      <td>8 years</td>\n",
       "      <td>0.0</td>\n",
       "      <td>13.0</td>\n",
       "      <td>13.6</td>\n",
       "      <td>385836.0</td>\n",
       "      <td>1.0</td>\n",
       "      <td>NaN</td>\n",
       "      <td>0.0</td>\n",
       "      <td>debt consolidation</td>\n",
       "      <td>Short Term</td>\n",
       "      <td>125840.0</td>\n",
       "      <td>93309.0</td>\n",
       "      <td>7180.0</td>\n",
       "      <td>719.0</td>\n",
       "      <td>0</td>\n",
       "    </tr>\n",
       "  </tbody>\n",
       "</table>\n",
       "</div>"
      ],
      "text/plain": [
       "   Id Home Ownership  Annual Income Years in current job  Tax Liens  \\\n",
       "0   0       Own Home       482087.0                  NaN        0.0   \n",
       "1   1       Own Home      1025487.0            10+ years        0.0   \n",
       "2   2  Home Mortgage       751412.0              8 years        0.0   \n",
       "3   3       Own Home       805068.0              6 years        0.0   \n",
       "4   4           Rent       776264.0              8 years        0.0   \n",
       "\n",
       "   Number of Open Accounts  Years of Credit History  Maximum Open Credit  \\\n",
       "0                     11.0                     26.3             685960.0   \n",
       "1                     15.0                     15.3            1181730.0   \n",
       "2                     11.0                     35.0            1182434.0   \n",
       "3                      8.0                     22.5             147400.0   \n",
       "4                     13.0                     13.6             385836.0   \n",
       "\n",
       "   Number of Credit Problems  Months since last delinquent  Bankruptcies  \\\n",
       "0                        1.0                           NaN           1.0   \n",
       "1                        0.0                           NaN           0.0   \n",
       "2                        0.0                           NaN           0.0   \n",
       "3                        1.0                           NaN           1.0   \n",
       "4                        1.0                           NaN           0.0   \n",
       "\n",
       "              Purpose        Term  Current Loan Amount  \\\n",
       "0  debt consolidation  Short Term           99999999.0   \n",
       "1  debt consolidation   Long Term             264968.0   \n",
       "2  debt consolidation  Short Term           99999999.0   \n",
       "3  debt consolidation  Short Term             121396.0   \n",
       "4  debt consolidation  Short Term             125840.0   \n",
       "\n",
       "   Current Credit Balance  Monthly Debt  Credit Score  Credit Default  \n",
       "0                 47386.0        7914.0         749.0               0  \n",
       "1                394972.0       18373.0         737.0               1  \n",
       "2                308389.0       13651.0         742.0               0  \n",
       "3                 95855.0       11338.0         694.0               0  \n",
       "4                 93309.0        7180.0         719.0               0  "
      ]
     },
     "execution_count": 2,
     "metadata": {},
     "output_type": "execute_result"
    }
   ],
   "source": [
    "train = pd.read_csv(\"train.csv\")\n",
    "train.head()"
   ]
  },
  {
   "cell_type": "code",
   "execution_count": 3,
   "metadata": {},
   "outputs": [
    {
     "data": {
      "text/html": [
       "<div>\n",
       "<style scoped>\n",
       "    .dataframe tbody tr th:only-of-type {\n",
       "        vertical-align: middle;\n",
       "    }\n",
       "\n",
       "    .dataframe tbody tr th {\n",
       "        vertical-align: top;\n",
       "    }\n",
       "\n",
       "    .dataframe thead th {\n",
       "        text-align: right;\n",
       "    }\n",
       "</style>\n",
       "<table border=\"1\" class=\"dataframe\">\n",
       "  <thead>\n",
       "    <tr style=\"text-align: right;\">\n",
       "      <th></th>\n",
       "      <th>Id</th>\n",
       "      <th>Home Ownership</th>\n",
       "      <th>Annual Income</th>\n",
       "      <th>Years in current job</th>\n",
       "      <th>Tax Liens</th>\n",
       "      <th>Number of Open Accounts</th>\n",
       "      <th>Years of Credit History</th>\n",
       "      <th>Maximum Open Credit</th>\n",
       "      <th>Number of Credit Problems</th>\n",
       "      <th>Months since last delinquent</th>\n",
       "      <th>Bankruptcies</th>\n",
       "      <th>Purpose</th>\n",
       "      <th>Term</th>\n",
       "      <th>Current Loan Amount</th>\n",
       "      <th>Current Credit Balance</th>\n",
       "      <th>Monthly Debt</th>\n",
       "      <th>Credit Score</th>\n",
       "    </tr>\n",
       "  </thead>\n",
       "  <tbody>\n",
       "    <tr>\n",
       "      <th>0</th>\n",
       "      <td>7500</td>\n",
       "      <td>Rent</td>\n",
       "      <td>NaN</td>\n",
       "      <td>4 years</td>\n",
       "      <td>0.0</td>\n",
       "      <td>9.0</td>\n",
       "      <td>12.5</td>\n",
       "      <td>220968.0</td>\n",
       "      <td>0.0</td>\n",
       "      <td>70.0</td>\n",
       "      <td>0.0</td>\n",
       "      <td>debt consolidation</td>\n",
       "      <td>Short Term</td>\n",
       "      <td>162470.0</td>\n",
       "      <td>105906.0</td>\n",
       "      <td>6813.0</td>\n",
       "      <td>NaN</td>\n",
       "    </tr>\n",
       "    <tr>\n",
       "      <th>1</th>\n",
       "      <td>7501</td>\n",
       "      <td>Rent</td>\n",
       "      <td>231838.0</td>\n",
       "      <td>1 year</td>\n",
       "      <td>0.0</td>\n",
       "      <td>6.0</td>\n",
       "      <td>32.7</td>\n",
       "      <td>55946.0</td>\n",
       "      <td>0.0</td>\n",
       "      <td>8.0</td>\n",
       "      <td>0.0</td>\n",
       "      <td>educational expenses</td>\n",
       "      <td>Short Term</td>\n",
       "      <td>78298.0</td>\n",
       "      <td>46037.0</td>\n",
       "      <td>2318.0</td>\n",
       "      <td>699.0</td>\n",
       "    </tr>\n",
       "    <tr>\n",
       "      <th>2</th>\n",
       "      <td>7502</td>\n",
       "      <td>Home Mortgage</td>\n",
       "      <td>1152540.0</td>\n",
       "      <td>3 years</td>\n",
       "      <td>0.0</td>\n",
       "      <td>10.0</td>\n",
       "      <td>13.7</td>\n",
       "      <td>204600.0</td>\n",
       "      <td>0.0</td>\n",
       "      <td>NaN</td>\n",
       "      <td>0.0</td>\n",
       "      <td>debt consolidation</td>\n",
       "      <td>Short Term</td>\n",
       "      <td>200178.0</td>\n",
       "      <td>146490.0</td>\n",
       "      <td>18729.0</td>\n",
       "      <td>7260.0</td>\n",
       "    </tr>\n",
       "    <tr>\n",
       "      <th>3</th>\n",
       "      <td>7503</td>\n",
       "      <td>Home Mortgage</td>\n",
       "      <td>1220313.0</td>\n",
       "      <td>10+ years</td>\n",
       "      <td>0.0</td>\n",
       "      <td>16.0</td>\n",
       "      <td>17.0</td>\n",
       "      <td>456302.0</td>\n",
       "      <td>0.0</td>\n",
       "      <td>70.0</td>\n",
       "      <td>0.0</td>\n",
       "      <td>debt consolidation</td>\n",
       "      <td>Short Term</td>\n",
       "      <td>217382.0</td>\n",
       "      <td>213199.0</td>\n",
       "      <td>27559.0</td>\n",
       "      <td>739.0</td>\n",
       "    </tr>\n",
       "    <tr>\n",
       "      <th>4</th>\n",
       "      <td>7504</td>\n",
       "      <td>Home Mortgage</td>\n",
       "      <td>2340952.0</td>\n",
       "      <td>6 years</td>\n",
       "      <td>0.0</td>\n",
       "      <td>11.0</td>\n",
       "      <td>23.6</td>\n",
       "      <td>1207272.0</td>\n",
       "      <td>0.0</td>\n",
       "      <td>NaN</td>\n",
       "      <td>0.0</td>\n",
       "      <td>debt consolidation</td>\n",
       "      <td>Long Term</td>\n",
       "      <td>777634.0</td>\n",
       "      <td>425391.0</td>\n",
       "      <td>42605.0</td>\n",
       "      <td>706.0</td>\n",
       "    </tr>\n",
       "  </tbody>\n",
       "</table>\n",
       "</div>"
      ],
      "text/plain": [
       "     Id Home Ownership  Annual Income Years in current job  Tax Liens  \\\n",
       "0  7500           Rent            NaN              4 years        0.0   \n",
       "1  7501           Rent       231838.0               1 year        0.0   \n",
       "2  7502  Home Mortgage      1152540.0              3 years        0.0   \n",
       "3  7503  Home Mortgage      1220313.0            10+ years        0.0   \n",
       "4  7504  Home Mortgage      2340952.0              6 years        0.0   \n",
       "\n",
       "   Number of Open Accounts  Years of Credit History  Maximum Open Credit  \\\n",
       "0                      9.0                     12.5             220968.0   \n",
       "1                      6.0                     32.7              55946.0   \n",
       "2                     10.0                     13.7             204600.0   \n",
       "3                     16.0                     17.0             456302.0   \n",
       "4                     11.0                     23.6            1207272.0   \n",
       "\n",
       "   Number of Credit Problems  Months since last delinquent  Bankruptcies  \\\n",
       "0                        0.0                          70.0           0.0   \n",
       "1                        0.0                           8.0           0.0   \n",
       "2                        0.0                           NaN           0.0   \n",
       "3                        0.0                          70.0           0.0   \n",
       "4                        0.0                           NaN           0.0   \n",
       "\n",
       "                Purpose        Term  Current Loan Amount  \\\n",
       "0    debt consolidation  Short Term             162470.0   \n",
       "1  educational expenses  Short Term              78298.0   \n",
       "2    debt consolidation  Short Term             200178.0   \n",
       "3    debt consolidation  Short Term             217382.0   \n",
       "4    debt consolidation   Long Term             777634.0   \n",
       "\n",
       "   Current Credit Balance  Monthly Debt  Credit Score  \n",
       "0                105906.0        6813.0           NaN  \n",
       "1                 46037.0        2318.0         699.0  \n",
       "2                146490.0       18729.0        7260.0  \n",
       "3                213199.0       27559.0         739.0  \n",
       "4                425391.0       42605.0         706.0  "
      ]
     },
     "execution_count": 3,
     "metadata": {},
     "output_type": "execute_result"
    }
   ],
   "source": [
    "test = pd.read_csv(\"test.csv\")\n",
    "test.head()"
   ]
  },
  {
   "cell_type": "code",
   "execution_count": 4,
   "metadata": {},
   "outputs": [
    {
     "data": {
      "text/plain": [
       "Id                                 0\n",
       "Home Ownership                     0\n",
       "Annual Income                   1557\n",
       "Years in current job             371\n",
       "Tax Liens                          0\n",
       "Number of Open Accounts            0\n",
       "Years of Credit History            0\n",
       "Maximum Open Credit                0\n",
       "Number of Credit Problems          0\n",
       "Months since last delinquent    4081\n",
       "Bankruptcies                      14\n",
       "Purpose                            0\n",
       "Term                               0\n",
       "Current Loan Amount                0\n",
       "Current Credit Balance             0\n",
       "Monthly Debt                       0\n",
       "Credit Score                    1557\n",
       "Credit Default                     0\n",
       "dtype: int64"
      ]
     },
     "execution_count": 4,
     "metadata": {},
     "output_type": "execute_result"
    }
   ],
   "source": [
    "train.isnull().sum()"
   ]
  },
  {
   "cell_type": "code",
   "execution_count": 5,
   "metadata": {},
   "outputs": [
    {
     "data": {
      "text/plain": [
       "(7500, 18)"
      ]
     },
     "execution_count": 5,
     "metadata": {},
     "output_type": "execute_result"
    }
   ],
   "source": [
    "train.shape"
   ]
  },
  {
   "cell_type": "code",
   "execution_count": 6,
   "metadata": {},
   "outputs": [
    {
     "data": {
      "text/plain": [
       "(2500, 17)"
      ]
     },
     "execution_count": 6,
     "metadata": {},
     "output_type": "execute_result"
    }
   ],
   "source": [
    "test.shape"
   ]
  },
  {
   "cell_type": "code",
   "execution_count": 7,
   "metadata": {},
   "outputs": [
    {
     "data": {
      "text/plain": [
       "Id                                 0\n",
       "Home Ownership                     0\n",
       "Annual Income                    513\n",
       "Years in current job              86\n",
       "Tax Liens                          0\n",
       "Number of Open Accounts            0\n",
       "Years of Credit History            0\n",
       "Maximum Open Credit                0\n",
       "Number of Credit Problems          0\n",
       "Months since last delinquent    1358\n",
       "Bankruptcies                       3\n",
       "Purpose                            0\n",
       "Term                               0\n",
       "Current Loan Amount                0\n",
       "Current Credit Balance             0\n",
       "Monthly Debt                       0\n",
       "Credit Score                     513\n",
       "dtype: int64"
      ]
     },
     "execution_count": 7,
     "metadata": {},
     "output_type": "execute_result"
    }
   ],
   "source": [
    "test.isnull().sum()"
   ]
  },
  {
   "cell_type": "code",
   "execution_count": 8,
   "metadata": {},
   "outputs": [],
   "source": [
    "#Months since last delinquent has a lot of missing values . Drop the column\n",
    "train.drop(columns = ['Months since last delinquent'],inplace = True)\n",
    "test.drop(columns = ['Months since last delinquent'],inplace = True)"
   ]
  },
  {
   "cell_type": "code",
   "execution_count": 9,
   "metadata": {},
   "outputs": [],
   "source": [
    "#Id will not contribute to the loan defaulting , drop the column\n",
    "train.drop(columns = ['Id'],inplace = True)\n",
    "test.drop(columns = ['Id'],inplace = True)"
   ]
  },
  {
   "cell_type": "code",
   "execution_count": 10,
   "metadata": {},
   "outputs": [
    {
     "data": {
      "text/plain": [
       "(array([ 0,  1,  2,  3,  4,  5,  6,  7,  8,  9, 10]),\n",
       " <a list of 11 Text major ticklabel objects>)"
      ]
     },
     "execution_count": 10,
     "metadata": {},
     "output_type": "execute_result"
    },
    {
     "data": {
      "image/png": "[encoded data removed]",
      "text/plain": [
       "<Figure size 432x288 with 1 Axes>"
      ]
     },
     "metadata": {
      "needs_background": "light"
     },
     "output_type": "display_data"
    }
   ],
   "source": [
    "#annual income\n",
    "sns.boxplot(x='Years in current job',y='Annual Income',data = train)\n",
    "plt.xticks(rotation = 70)"
   ]
  },
  {
   "cell_type": "code",
   "execution_count": 11,
   "metadata": {},
   "outputs": [
    {
     "data": {
      "text/plain": [
       "(array([ 0., 10., 20., 30., 40., 50., 60.]),\n",
       " <a list of 7 Text major ticklabel objects>)"
      ]
     },
     "execution_count": 11,
     "metadata": {},
     "output_type": "execute_result"
    },
    {
     "data": {
      "image/png": "[encoded data removed]",
      "text/plain": [
       "<Figure size 432x288 with 1 Axes>"
      ]
     },
     "metadata": {
      "needs_background": "light"
     },
     "output_type": "display_data"
    }
   ],
   "source": [
    "sns.regplot(x='Years of Credit History',y='Annual Income',data = train)\n",
    "plt.xticks(rotation = 70)"
   ]
  },
  {
   "cell_type": "code",
   "execution_count": 12,
   "metadata": {},
   "outputs": [
    {
     "data": {
      "text/plain": [
       "<matplotlib.axes._subplots.AxesSubplot at 0x1d002274a58>"
      ]
     },
     "execution_count": 12,
     "metadata": {},
     "output_type": "execute_result"
    },
    {
     "data": {
      "image/png": "[encoded data removed]",
      "text/plain": [
       "<Figure size 432x288 with 1 Axes>"
      ]
     },
     "metadata": {
      "needs_background": "light"
     },
     "output_type": "display_data"
    }
   ],
   "source": [
    "sns.regplot(x='Tax Liens',y='Annual Income',data = train)"
   ]
  },
  {
   "cell_type": "code",
   "execution_count": 13,
   "metadata": {},
   "outputs": [
    {
     "data": {
      "text/plain": [
       "(array([ 0,  1,  2,  3,  4,  5,  6,  7,  8,  9, 10, 11, 12, 13, 14]),\n",
       " <a list of 15 Text major ticklabel objects>)"
      ]
     },
     "execution_count": 13,
     "metadata": {},
     "output_type": "execute_result"
    },
    {
     "data": {
      "image/png": "[encoded data removed]",
      "text/plain": [
       "<Figure size 432x288 with 1 Axes>"
      ]
     },
     "metadata": {
      "needs_background": "light"
     },
     "output_type": "display_data"
    }
   ],
   "source": [
    "sns.boxplot(x='Purpose',y='Annual Income',data = train)\n",
    "plt.xticks(rotation = 70)"
   ]
  },
  {
   "cell_type": "code",
   "execution_count": 14,
   "metadata": {},
   "outputs": [
    {
     "data": {
      "text/plain": [
       "(array([     0.,  20000.,  40000.,  60000.,  80000., 100000., 120000.,\n",
       "        140000.]),\n",
       " <a list of 8 Text major ticklabel objects>)"
      ]
     },
     "execution_count": 14,
     "metadata": {},
     "output_type": "execute_result"
    },
    {
     "data": {
      "image/png": "[encoded data removed]",
      "text/plain": [
       "<Figure size 432x288 with 1 Axes>"
      ]
     },
     "metadata": {
      "needs_background": "light"
     },
     "output_type": "display_data"
    }
   ],
   "source": [
    "sns.regplot(x='Monthly Debt',y='Annual Income',data = train)\n",
    "plt.xticks(rotation = 70)"
   ]
  },
  {
   "cell_type": "code",
   "execution_count": 15,
   "metadata": {},
   "outputs": [
    {
     "data": {
      "text/plain": [
       "LinearRegression(copy_X=True, fit_intercept=True, n_jobs=None, normalize=False)"
      ]
     },
     "execution_count": 15,
     "metadata": {},
     "output_type": "execute_result"
    }
   ],
   "source": [
    "# we can see a linear relationship of the annual income with monthly debt\n",
    "#so we can predict the annual income by plotting a linear grapgh\n",
    "y = train.loc[train[\"Annual Income\"].notnull(), \"Annual Income\"]\n",
    "x = train.loc[train[\"Annual Income\"].notnull(), \"Monthly Debt\"].values.reshape(-1,1)\n",
    "lr = LinearRegression()\n",
    "lr.fit(x,y)"
   ]
  },
  {
   "cell_type": "code",
   "execution_count": 16,
   "metadata": {},
   "outputs": [],
   "source": [
    "train.loc[train[\"Annual Income\"].isnull(), \"Annual Income\"] = lr.predict(train.loc[train[\"Annual Income\"].isnull(),\"Monthly Debt\"].values.reshape(-1,1))"
   ]
  },
  {
   "cell_type": "code",
   "execution_count": 17,
   "metadata": {},
   "outputs": [
    {
     "data": {
      "text/plain": [
       "Home Ownership                  0\n",
       "Annual Income                   0\n",
       "Years in current job          371\n",
       "Tax Liens                       0\n",
       "Number of Open Accounts         0\n",
       "Years of Credit History         0\n",
       "Maximum Open Credit             0\n",
       "Number of Credit Problems       0\n",
       "Bankruptcies                   14\n",
       "Purpose                         0\n",
       "Term                            0\n",
       "Current Loan Amount             0\n",
       "Current Credit Balance          0\n",
       "Monthly Debt                    0\n",
       "Credit Score                 1557\n",
       "Credit Default                  0\n",
       "dtype: int64"
      ]
     },
     "execution_count": 17,
     "metadata": {},
     "output_type": "execute_result"
    }
   ],
   "source": [
    "train.isnull().sum()"
   ]
  },
  {
   "cell_type": "code",
   "execution_count": 18,
   "metadata": {},
   "outputs": [],
   "source": [
    "test.loc[test[\"Annual Income\"].isnull(), \"Annual Income\"] = lr.predict(test.loc[test[\"Annual Income\"].isnull(),\"Monthly Debt\"].values.reshape(-1,1))"
   ]
  },
  {
   "cell_type": "code",
   "execution_count": 19,
   "metadata": {},
   "outputs": [
    {
     "data": {
      "text/plain": [
       "(array([      0., 1000000., 2000000., 3000000., 4000000., 5000000.,\n",
       "        6000000., 7000000.]),\n",
       " <a list of 8 Text major ticklabel objects>)"
      ]
     },
     "execution_count": 19,
     "metadata": {},
     "output_type": "execute_result"
    },
    {
     "data": {
      "image/png": "[encoded data removed]",
      "text/plain": [
       "<Figure size 432x288 with 1 Axes>"
      ]
     },
     "metadata": {
      "needs_background": "light"
     },
     "output_type": "display_data"
    }
   ],
   "source": [
    "sns.regplot(x='Current Credit Balance',y='Credit Score',data = train)\n",
    "plt.xticks(rotation = 70)"
   ]
  },
  {
   "cell_type": "code",
   "execution_count": 20,
   "metadata": {},
   "outputs": [
    {
     "data": {
      "text/plain": [
       "(array([ 0., 10., 20., 30., 40., 50., 60.]),\n",
       " <a list of 7 Text major ticklabel objects>)"
      ]
     },
     "execution_count": 20,
     "metadata": {},
     "output_type": "execute_result"
    },
    {
     "data": {
      "image/png": "[encoded data removed]",
      "text/plain": [
       "<Figure size 432x288 with 1 Axes>"
      ]
     },
     "metadata": {
      "needs_background": "light"
     },
     "output_type": "display_data"
    }
   ],
   "source": [
    "sns.regplot(x='Years of Credit History',y='Credit Score',data = train)\n",
    "plt.xticks(rotation = 70)"
   ]
  },
  {
   "cell_type": "code",
   "execution_count": 21,
   "metadata": {},
   "outputs": [
    {
     "data": {
      "text/plain": [
       "(array([     0.,  20000.,  40000.,  60000.,  80000., 100000., 120000.,\n",
       "        140000.]),\n",
       " <a list of 8 Text major ticklabel objects>)"
      ]
     },
     "execution_count": 21,
     "metadata": {},
     "output_type": "execute_result"
    },
    {
     "data": {
      "image/png": "[encoded data removed]",
      "text/plain": [
       "<Figure size 432x288 with 1 Axes>"
      ]
     },
     "metadata": {
      "needs_background": "light"
     },
     "output_type": "display_data"
    }
   ],
   "source": [
    "sns.regplot(x='Monthly Debt',y='Credit Score',data = train)\n",
    "plt.xticks(rotation = 70)"
   ]
  },
  {
   "cell_type": "code",
   "execution_count": 22,
   "metadata": {},
   "outputs": [
    {
     "data": {
      "text/plain": [
       "(array([0., 1., 2., 3., 4., 5., 6., 7.]),\n",
       " <a list of 8 Text major ticklabel objects>)"
      ]
     },
     "execution_count": 22,
     "metadata": {},
     "output_type": "execute_result"
    },
    {
     "data": {
      "image/png": "[encoded data removed]",
      "text/plain": [
       "<Figure size 432x288 with 1 Axes>"
      ]
     },
     "metadata": {
      "needs_background": "light"
     },
     "output_type": "display_data"
    }
   ],
   "source": [
    "sns.regplot(x='Number of Credit Problems',y='Credit Score',data = train)\n",
    "plt.xticks(rotation = 70)"
   ]
  },
  {
   "cell_type": "code",
   "execution_count": 23,
   "metadata": {},
   "outputs": [
    {
     "data": {
      "text/plain": [
       "Annual Income               -0.037832\n",
       "Tax Liens                    0.010581\n",
       "Number of Open Accounts      0.016095\n",
       "Years of Credit History     -0.015683\n",
       "Maximum Open Credit         -0.009136\n",
       "Number of Credit Problems   -0.018473\n",
       "Bankruptcies                -0.027488\n",
       "Current Loan Amount         -0.108552\n",
       "Current Credit Balance      -0.006159\n",
       "Monthly Debt                 0.000234\n",
       "Credit Score                 1.000000\n",
       "Credit Default               0.442050\n",
       "Name: Credit Score, dtype: float64"
      ]
     },
     "execution_count": 23,
     "metadata": {},
     "output_type": "execute_result"
    }
   ],
   "source": [
    "train.corr()[\"Credit Score\"]"
   ]
  },
  {
   "cell_type": "code",
   "execution_count": 24,
   "metadata": {},
   "outputs": [
    {
     "data": {
      "text/plain": [
       "<matplotlib.axes._subplots.AxesSubplot at 0x1d00363a860>"
      ]
     },
     "execution_count": 24,
     "metadata": {},
     "output_type": "execute_result"
    },
    {
     "data": {
      "image/png": "[encoded data removed]",
      "text/plain": [
       "<Figure size 432x288 with 1 Axes>"
      ]
     },
     "metadata": {
      "needs_background": "light"
     },
     "output_type": "display_data"
    }
   ],
   "source": [
    "sns.boxplot(x=\"Home Ownership\",y=\"Credit Score\",data=train)"
   ]
  },
  {
   "cell_type": "code",
   "execution_count": 25,
   "metadata": {},
   "outputs": [],
   "source": [
    "#people who have mortgaged houses have credit scores < 2000"
   ]
  },
  {
   "cell_type": "code",
   "execution_count": 26,
   "metadata": {},
   "outputs": [
    {
     "data": {
      "text/plain": [
       "<matplotlib.axes._subplots.AxesSubplot at 0x1d0036fbdd8>"
      ]
     },
     "execution_count": 26,
     "metadata": {},
     "output_type": "execute_result"
    },
    {
     "data": {
      "image/png": "[encoded data removed]",
      "text/plain": [
       "<Figure size 432x288 with 1 Axes>"
      ]
     },
     "metadata": {
      "needs_background": "light"
     },
     "output_type": "display_data"
    }
   ],
   "source": [
    "sns.boxplot(x=\"Number of Credit Problems\",y=\"Credit Score\",data=train)"
   ]
  },
  {
   "cell_type": "code",
   "execution_count": null,
   "metadata": {},
   "outputs": [],
   "source": []
  },
  {
   "cell_type": "code",
   "execution_count": 27,
   "metadata": {},
   "outputs": [
    {
     "data": {
      "text/plain": [
       "<matplotlib.axes._subplots.AxesSubplot at 0x1d00366a5f8>"
      ]
     },
     "execution_count": 27,
     "metadata": {},
     "output_type": "execute_result"
    },
    {
     "data": {
      "image/png": "[encoded data removed]",
      "text/plain": [
       "<Figure size 432x288 with 1 Axes>"
      ]
     },
     "metadata": {
      "needs_background": "light"
     },
     "output_type": "display_data"
    }
   ],
   "source": [
    "sns.boxplot(x=\"Purpose\",y=\"Credit Score\",data=train)"
   ]
  },
  {
   "cell_type": "code",
   "execution_count": 28,
   "metadata": {},
   "outputs": [
    {
     "name": "stdout",
     "output_type": "stream",
     "text": [
      "720.7059354140357 7115.1\n"
     ]
    }
   ],
   "source": [
    "#we can see that there are usually two clusters\n",
    "#one with credit score above 5000 and another with credit score below 1000\n",
    "mean_low = train.loc[train[\"Credit Score\"]<2000,\"Credit Score\"].mean()\n",
    "mean_high = train.loc[train[\"Credit Score\"]>5000,\"Credit Score\"].mean()\n",
    "print(mean_low,mean_high)"
   ]
  },
  {
   "cell_type": "code",
   "execution_count": 29,
   "metadata": {},
   "outputs": [],
   "source": [
    "# how to decide whether the credit score  belongs to cluster 1 or cluster 2 ?\n",
    "#if number of credit problems is greater than or equal to 5 then low credit score\n",
    "train.loc[(train[\"Number of Credit Problems\"]>=5) & (train[\"Credit Score\"].isnull()),\"Credit Score\"] = mean_low\n",
    "#people who have mortgaged houses have credit scores < 2000\n",
    "train.loc[(train[\"Home Ownership\"]==\"Have Mortgage\") & (train[\"Credit Score\"].isnull()),\"Credit Score\"] = mean_low"
   ]
  },
  {
   "cell_type": "code",
   "execution_count": 30,
   "metadata": {},
   "outputs": [],
   "source": [
    "#if number of credit problems is greater than or equal to 5 then low credit score\n",
    "test.loc[(test[\"Number of Credit Problems\"]>=5) & (test[\"Credit Score\"].isnull()),\"Credit Score\"] = mean_low\n",
    "#people who have mortgaged houses have credit scores < 2000\n",
    "test.loc[(test[\"Home Ownership\"]==\"Have Mortgage\") & (test[\"Credit Score\"].isnull()),\"Credit Score\"] = mean_low"
   ]
  },
  {
   "cell_type": "code",
   "execution_count": 31,
   "metadata": {},
   "outputs": [
    {
     "data": {
      "text/plain": [
       "Home Ownership                  0\n",
       "Annual Income                   0\n",
       "Years in current job          371\n",
       "Tax Liens                       0\n",
       "Number of Open Accounts         0\n",
       "Years of Credit History         0\n",
       "Maximum Open Credit             0\n",
       "Number of Credit Problems       0\n",
       "Bankruptcies                   14\n",
       "Purpose                         0\n",
       "Term                            0\n",
       "Current Loan Amount             0\n",
       "Current Credit Balance          0\n",
       "Monthly Debt                    0\n",
       "Credit Score                 1551\n",
       "Credit Default                  0\n",
       "dtype: int64"
      ]
     },
     "execution_count": 31,
     "metadata": {},
     "output_type": "execute_result"
    }
   ],
   "source": [
    "train.isnull().sum()"
   ]
  },
  {
   "cell_type": "code",
   "execution_count": 32,
   "metadata": {},
   "outputs": [
    {
     "data": {
      "text/plain": [
       "(array([ 0,  1,  2,  3,  4,  5,  6,  7,  8,  9, 10]),\n",
       " <a list of 11 Text major ticklabel objects>)"
      ]
     },
     "execution_count": 32,
     "metadata": {},
     "output_type": "execute_result"
    },
    {
     "data": {
      "image/png": "[encoded data removed]",
      "text/plain": [
       "<Figure size 432x288 with 1 Axes>"
      ]
     },
     "metadata": {
      "needs_background": "light"
     },
     "output_type": "display_data"
    }
   ],
   "source": [
    "sns.boxplot(x=\"Years in current job\",y=\"Annual Income\",data=train)\n",
    "plt.xticks(rotation=60)"
   ]
  },
  {
   "cell_type": "code",
   "execution_count": 33,
   "metadata": {},
   "outputs": [
    {
     "data": {
      "text/html": [
       "<div>\n",
       "<style scoped>\n",
       "    .dataframe tbody tr th:only-of-type {\n",
       "        vertical-align: middle;\n",
       "    }\n",
       "\n",
       "    .dataframe tbody tr th {\n",
       "        vertical-align: top;\n",
       "    }\n",
       "\n",
       "    .dataframe thead th {\n",
       "        text-align: right;\n",
       "    }\n",
       "</style>\n",
       "<table border=\"1\" class=\"dataframe\">\n",
       "  <thead>\n",
       "    <tr style=\"text-align: right;\">\n",
       "      <th></th>\n",
       "      <th>Annual Income</th>\n",
       "      <th>Tax Liens</th>\n",
       "      <th>Number of Open Accounts</th>\n",
       "      <th>Years of Credit History</th>\n",
       "      <th>Maximum Open Credit</th>\n",
       "      <th>Number of Credit Problems</th>\n",
       "      <th>Bankruptcies</th>\n",
       "      <th>Current Loan Amount</th>\n",
       "      <th>Current Credit Balance</th>\n",
       "      <th>Monthly Debt</th>\n",
       "      <th>Credit Score</th>\n",
       "      <th>Credit Default</th>\n",
       "    </tr>\n",
       "    <tr>\n",
       "      <th>Years in current job</th>\n",
       "      <th></th>\n",
       "      <th></th>\n",
       "      <th></th>\n",
       "      <th></th>\n",
       "      <th></th>\n",
       "      <th></th>\n",
       "      <th></th>\n",
       "      <th></th>\n",
       "      <th></th>\n",
       "      <th></th>\n",
       "      <th></th>\n",
       "      <th></th>\n",
       "    </tr>\n",
       "  </thead>\n",
       "  <tbody>\n",
       "    <tr>\n",
       "      <th>1 year</th>\n",
       "      <td>1.266025e+06</td>\n",
       "      <td>0.027778</td>\n",
       "      <td>10.920635</td>\n",
       "      <td>16.502381</td>\n",
       "      <td>5.927536e+05</td>\n",
       "      <td>0.123016</td>\n",
       "      <td>0.085828</td>\n",
       "      <td>1.333974e+07</td>\n",
       "      <td>255974.069444</td>\n",
       "      <td>16495.539683</td>\n",
       "      <td>1253.218593</td>\n",
       "      <td>0.281746</td>\n",
       "    </tr>\n",
       "    <tr>\n",
       "      <th>10+ years</th>\n",
       "      <td>1.501556e+06</td>\n",
       "      <td>0.034734</td>\n",
       "      <td>11.438250</td>\n",
       "      <td>20.424014</td>\n",
       "      <td>1.084556e+06</td>\n",
       "      <td>0.193825</td>\n",
       "      <td>0.137709</td>\n",
       "      <td>1.162431e+07</td>\n",
       "      <td>338754.707118</td>\n",
       "      <td>20326.827187</td>\n",
       "      <td>1150.277492</td>\n",
       "      <td>0.276158</td>\n",
       "    </tr>\n",
       "    <tr>\n",
       "      <th>2 years</th>\n",
       "      <td>1.318570e+06</td>\n",
       "      <td>0.031206</td>\n",
       "      <td>11.007092</td>\n",
       "      <td>16.646667</td>\n",
       "      <td>5.684199e+05</td>\n",
       "      <td>0.153191</td>\n",
       "      <td>0.100996</td>\n",
       "      <td>1.273345e+07</td>\n",
       "      <td>258549.601418</td>\n",
       "      <td>16578.445390</td>\n",
       "      <td>1087.280859</td>\n",
       "      <td>0.273759</td>\n",
       "    </tr>\n",
       "    <tr>\n",
       "      <th>3 years</th>\n",
       "      <td>1.398615e+06</td>\n",
       "      <td>0.020968</td>\n",
       "      <td>11.100000</td>\n",
       "      <td>16.618065</td>\n",
       "      <td>2.692149e+06</td>\n",
       "      <td>0.145161</td>\n",
       "      <td>0.090323</td>\n",
       "      <td>1.138869e+07</td>\n",
       "      <td>256376.438710</td>\n",
       "      <td>18117.264516</td>\n",
       "      <td>1129.253984</td>\n",
       "      <td>0.274194</td>\n",
       "    </tr>\n",
       "    <tr>\n",
       "      <th>4 years</th>\n",
       "      <td>1.349266e+06</td>\n",
       "      <td>0.021322</td>\n",
       "      <td>10.976546</td>\n",
       "      <td>16.546482</td>\n",
       "      <td>6.040131e+05</td>\n",
       "      <td>0.159915</td>\n",
       "      <td>0.113006</td>\n",
       "      <td>1.114110e+07</td>\n",
       "      <td>250922.547974</td>\n",
       "      <td>17528.031983</td>\n",
       "      <td>1134.235135</td>\n",
       "      <td>0.279318</td>\n",
       "    </tr>\n",
       "    <tr>\n",
       "      <th>5 years</th>\n",
       "      <td>1.323898e+06</td>\n",
       "      <td>0.017442</td>\n",
       "      <td>10.775194</td>\n",
       "      <td>17.010465</td>\n",
       "      <td>6.306296e+05</td>\n",
       "      <td>0.145349</td>\n",
       "      <td>0.104651</td>\n",
       "      <td>9.770763e+06</td>\n",
       "      <td>272394.052326</td>\n",
       "      <td>18047.511628</td>\n",
       "      <td>1116.742332</td>\n",
       "      <td>0.281008</td>\n",
       "    </tr>\n",
       "    <tr>\n",
       "      <th>6 years</th>\n",
       "      <td>1.330335e+06</td>\n",
       "      <td>0.028169</td>\n",
       "      <td>11.281690</td>\n",
       "      <td>17.136385</td>\n",
       "      <td>6.712647e+05</td>\n",
       "      <td>0.138498</td>\n",
       "      <td>0.096471</td>\n",
       "      <td>1.435953e+07</td>\n",
       "      <td>279583.215962</td>\n",
       "      <td>18776.082160</td>\n",
       "      <td>1302.296296</td>\n",
       "      <td>0.291080</td>\n",
       "    </tr>\n",
       "    <tr>\n",
       "      <th>7 years</th>\n",
       "      <td>1.351527e+06</td>\n",
       "      <td>0.035354</td>\n",
       "      <td>11.825758</td>\n",
       "      <td>17.372727</td>\n",
       "      <td>6.092761e+05</td>\n",
       "      <td>0.156566</td>\n",
       "      <td>0.106061</td>\n",
       "      <td>1.164777e+07</td>\n",
       "      <td>261129.906566</td>\n",
       "      <td>18356.492424</td>\n",
       "      <td>1172.574675</td>\n",
       "      <td>0.280303</td>\n",
       "    </tr>\n",
       "    <tr>\n",
       "      <th>8 years</th>\n",
       "      <td>1.401313e+06</td>\n",
       "      <td>0.017699</td>\n",
       "      <td>11.528024</td>\n",
       "      <td>18.120059</td>\n",
       "      <td>7.737092e+05</td>\n",
       "      <td>0.156342</td>\n",
       "      <td>0.106509</td>\n",
       "      <td>1.443569e+07</td>\n",
       "      <td>308857.386431</td>\n",
       "      <td>19470.988201</td>\n",
       "      <td>1040.425000</td>\n",
       "      <td>0.271386</td>\n",
       "    </tr>\n",
       "    <tr>\n",
       "      <th>9 years</th>\n",
       "      <td>1.463515e+06</td>\n",
       "      <td>0.034749</td>\n",
       "      <td>11.108108</td>\n",
       "      <td>18.430502</td>\n",
       "      <td>8.457785e+05</td>\n",
       "      <td>0.154440</td>\n",
       "      <td>0.108108</td>\n",
       "      <td>1.149108e+07</td>\n",
       "      <td>344357.980695</td>\n",
       "      <td>19677.555985</td>\n",
       "      <td>1030.682540</td>\n",
       "      <td>0.250965</td>\n",
       "    </tr>\n",
       "    <tr>\n",
       "      <th>&lt; 1 year</th>\n",
       "      <td>1.220548e+06</td>\n",
       "      <td>0.015986</td>\n",
       "      <td>10.444050</td>\n",
       "      <td>16.265542</td>\n",
       "      <td>5.810186e+05</td>\n",
       "      <td>0.110124</td>\n",
       "      <td>0.071813</td>\n",
       "      <td>1.089881e+07</td>\n",
       "      <td>254504.055062</td>\n",
       "      <td>16175.083481</td>\n",
       "      <td>1221.528361</td>\n",
       "      <td>0.282416</td>\n",
       "    </tr>\n",
       "  </tbody>\n",
       "</table>\n",
       "</div>"
      ],
      "text/plain": [
       "                      Annual Income  Tax Liens  Number of Open Accounts  \\\n",
       "Years in current job                                                      \n",
       "1 year                 1.266025e+06   0.027778                10.920635   \n",
       "10+ years              1.501556e+06   0.034734                11.438250   \n",
       "2 years                1.318570e+06   0.031206                11.007092   \n",
       "3 years                1.398615e+06   0.020968                11.100000   \n",
       "4 years                1.349266e+06   0.021322                10.976546   \n",
       "5 years                1.323898e+06   0.017442                10.775194   \n",
       "6 years                1.330335e+06   0.028169                11.281690   \n",
       "7 years                1.351527e+06   0.035354                11.825758   \n",
       "8 years                1.401313e+06   0.017699                11.528024   \n",
       "9 years                1.463515e+06   0.034749                11.108108   \n",
       "< 1 year               1.220548e+06   0.015986                10.444050   \n",
       "\n",
       "                      Years of Credit History  Maximum Open Credit  \\\n",
       "Years in current job                                                 \n",
       "1 year                              16.502381         5.927536e+05   \n",
       "10+ years                           20.424014         1.084556e+06   \n",
       "2 years                             16.646667         5.684199e+05   \n",
       "3 years                             16.618065         2.692149e+06   \n",
       "4 years                             16.546482         6.040131e+05   \n",
       "5 years                             17.010465         6.306296e+05   \n",
       "6 years                             17.136385         6.712647e+05   \n",
       "7 years                             17.372727         6.092761e+05   \n",
       "8 years                             18.120059         7.737092e+05   \n",
       "9 years                             18.430502         8.457785e+05   \n",
       "< 1 year                            16.265542         5.810186e+05   \n",
       "\n",
       "                      Number of Credit Problems  Bankruptcies  \\\n",
       "Years in current job                                            \n",
       "1 year                                 0.123016      0.085828   \n",
       "10+ years                              0.193825      0.137709   \n",
       "2 years                                0.153191      0.100996   \n",
       "3 years                                0.145161      0.090323   \n",
       "4 years                                0.159915      0.113006   \n",
       "5 years                                0.145349      0.104651   \n",
       "6 years                                0.138498      0.096471   \n",
       "7 years                                0.156566      0.106061   \n",
       "8 years                                0.156342      0.106509   \n",
       "9 years                                0.154440      0.108108   \n",
       "< 1 year                               0.110124      0.071813   \n",
       "\n",
       "                      Current Loan Amount  Current Credit Balance  \\\n",
       "Years in current job                                                \n",
       "1 year                       1.333974e+07           255974.069444   \n",
       "10+ years                    1.162431e+07           338754.707118   \n",
       "2 years                      1.273345e+07           258549.601418   \n",
       "3 years                      1.138869e+07           256376.438710   \n",
       "4 years                      1.114110e+07           250922.547974   \n",
       "5 years                      9.770763e+06           272394.052326   \n",
       "6 years                      1.435953e+07           279583.215962   \n",
       "7 years                      1.164777e+07           261129.906566   \n",
       "8 years                      1.443569e+07           308857.386431   \n",
       "9 years                      1.149108e+07           344357.980695   \n",
       "< 1 year                     1.089881e+07           254504.055062   \n",
       "\n",
       "                      Monthly Debt  Credit Score  Credit Default  \n",
       "Years in current job                                              \n",
       "1 year                16495.539683   1253.218593        0.281746  \n",
       "10+ years             20326.827187   1150.277492        0.276158  \n",
       "2 years               16578.445390   1087.280859        0.273759  \n",
       "3 years               18117.264516   1129.253984        0.274194  \n",
       "4 years               17528.031983   1134.235135        0.279318  \n",
       "5 years               18047.511628   1116.742332        0.281008  \n",
       "6 years               18776.082160   1302.296296        0.291080  \n",
       "7 years               18356.492424   1172.574675        0.280303  \n",
       "8 years               19470.988201   1040.425000        0.271386  \n",
       "9 years               19677.555985   1030.682540        0.250965  \n",
       "< 1 year              16175.083481   1221.528361        0.282416  "
      ]
     },
     "execution_count": 33,
     "metadata": {},
     "output_type": "execute_result"
    }
   ],
   "source": [
    "train.groupby(\"Years in current job\").mean()"
   ]
  },
  {
   "cell_type": "code",
   "execution_count": 34,
   "metadata": {},
   "outputs": [
    {
     "data": {
      "text/plain": [
       "array([nan, '10+ years', '8 years', '6 years', '7 years', '5 years',\n",
       "       '1 year', '< 1 year', '4 years', '3 years', '2 years', '9 years'],\n",
       "      dtype=object)"
      ]
     },
     "execution_count": 34,
     "metadata": {},
     "output_type": "execute_result"
    }
   ],
   "source": [
    "train[\"Years in current job\"].unique()"
   ]
  },
  {
   "cell_type": "code",
   "execution_count": 35,
   "metadata": {},
   "outputs": [],
   "source": [
    "#we can create 4 bins\n",
    "# annual income 1.2e6 - 1.3e6  => 1 or less year in current job\n",
    "# annual income 1.3e6 - 1.4e6  => 5 years on an average\n",
    "# annual income 1.4e6 - 1.5e6  => 8 years on an average\n",
    "# annual income 1.5e6  and above => 10+\n",
    "train.loc[(train[\"Years in current job\"].isnull()) & (train[\"Annual Income\"] < 1.3e+06),\"Years in current job\"] = '1 year'\n",
    "train.loc[(train[\"Years in current job\"].isnull()) & (train[\"Annual Income\"] < 1.4e+06),\"Years in current job\"] = '5 years'\n",
    "train.loc[(train[\"Years in current job\"].isnull()) & (train[\"Annual Income\"] < 1.5e+06),\"Years in current job\"] = '9 years'\n",
    "train.loc[(train[\"Years in current job\"].isnull()) & (train[\"Annual Income\"] >= 1.5e+06),\"Years in current job\"] = '10+ years'"
   ]
  },
  {
   "cell_type": "code",
   "execution_count": 36,
   "metadata": {},
   "outputs": [],
   "source": [
    "test.loc[(test[\"Years in current job\"].isnull()) & (test[\"Annual Income\"] < 1.3e+06),\"Years in current job\"] = '1 year'\n",
    "test.loc[(test[\"Years in current job\"].isnull()) & (test[\"Annual Income\"] < 1.4e+06),\"Years in current job\"] = '5 years'\n",
    "test.loc[(test[\"Years in current job\"].isnull()) & (test[\"Annual Income\"] < 1.5e+06),\"Years in current job\"] = '9 years'\n",
    "test.loc[(test[\"Years in current job\"].isnull()) & (test[\"Annual Income\"] > 1.5e+06),\"Years in current job\"] = '10+ years'"
   ]
  },
  {
   "cell_type": "code",
   "execution_count": 37,
   "metadata": {},
   "outputs": [
    {
     "data": {
      "text/plain": [
       "Home Ownership                  0\n",
       "Annual Income                   0\n",
       "Years in current job            0\n",
       "Tax Liens                       0\n",
       "Number of Open Accounts         0\n",
       "Years of Credit History         0\n",
       "Maximum Open Credit             0\n",
       "Number of Credit Problems       0\n",
       "Bankruptcies                   14\n",
       "Purpose                         0\n",
       "Term                            0\n",
       "Current Loan Amount             0\n",
       "Current Credit Balance          0\n",
       "Monthly Debt                    0\n",
       "Credit Score                 1551\n",
       "Credit Default                  0\n",
       "dtype: int64"
      ]
     },
     "execution_count": 37,
     "metadata": {},
     "output_type": "execute_result"
    }
   ],
   "source": [
    "train.isnull().sum()"
   ]
  },
  {
   "cell_type": "code",
   "execution_count": 38,
   "metadata": {},
   "outputs": [
    {
     "data": {
      "text/plain": [
       "Home Ownership                 0\n",
       "Annual Income                  0\n",
       "Years in current job           0\n",
       "Tax Liens                      0\n",
       "Number of Open Accounts        0\n",
       "Years of Credit History        0\n",
       "Maximum Open Credit            0\n",
       "Number of Credit Problems      0\n",
       "Bankruptcies                   3\n",
       "Purpose                        0\n",
       "Term                           0\n",
       "Current Loan Amount            0\n",
       "Current Credit Balance         0\n",
       "Monthly Debt                   0\n",
       "Credit Score                 512\n",
       "dtype: int64"
      ]
     },
     "execution_count": 38,
     "metadata": {},
     "output_type": "execute_result"
    }
   ],
   "source": [
    "test.isnull().sum()"
   ]
  },
  {
   "cell_type": "code",
   "execution_count": 39,
   "metadata": {},
   "outputs": [],
   "source": [
    "#remove the 14 rows with NaN bankruptcy\n",
    "train = train.loc[train[\"Bankruptcies\"].notnull()]"
   ]
  },
  {
   "cell_type": "code",
   "execution_count": 40,
   "metadata": {},
   "outputs": [
    {
     "data": {
      "text/plain": [
       "0.0    2252\n",
       "1.0     234\n",
       "2.0       5\n",
       "3.0       3\n",
       "5.0       2\n",
       "4.0       1\n",
       "Name: Bankruptcies, dtype: int64"
      ]
     },
     "execution_count": 40,
     "metadata": {},
     "output_type": "execute_result"
    }
   ],
   "source": [
    "test[\"Bankruptcies\"].value_counts()"
   ]
  },
  {
   "cell_type": "code",
   "execution_count": 41,
   "metadata": {},
   "outputs": [],
   "source": [
    "test.loc[test[\"Bankruptcies\"].isnull(),\"Bankruptcies\"] = 0.0"
   ]
  },
  {
   "cell_type": "code",
   "execution_count": 42,
   "metadata": {},
   "outputs": [
    {
     "data": {
      "text/html": [
       "<div>\n",
       "<style scoped>\n",
       "    .dataframe tbody tr th:only-of-type {\n",
       "        vertical-align: middle;\n",
       "    }\n",
       "\n",
       "    .dataframe tbody tr th {\n",
       "        vertical-align: top;\n",
       "    }\n",
       "\n",
       "    .dataframe thead th {\n",
       "        text-align: right;\n",
       "    }\n",
       "</style>\n",
       "<table border=\"1\" class=\"dataframe\">\n",
       "  <thead>\n",
       "    <tr style=\"text-align: right;\">\n",
       "      <th></th>\n",
       "      <th>Annual Income</th>\n",
       "      <th>Tax Liens</th>\n",
       "      <th>Number of Open Accounts</th>\n",
       "      <th>Years of Credit History</th>\n",
       "      <th>Maximum Open Credit</th>\n",
       "      <th>Number of Credit Problems</th>\n",
       "      <th>Bankruptcies</th>\n",
       "      <th>Current Loan Amount</th>\n",
       "      <th>Current Credit Balance</th>\n",
       "      <th>Monthly Debt</th>\n",
       "      <th>Credit Score</th>\n",
       "      <th>Credit Default</th>\n",
       "    </tr>\n",
       "  </thead>\n",
       "  <tbody>\n",
       "    <tr>\n",
       "      <th>Annual Income</th>\n",
       "      <td>1.000000</td>\n",
       "      <td>0.063135</td>\n",
       "      <td>0.210633</td>\n",
       "      <td>0.185828</td>\n",
       "      <td>0.015192</td>\n",
       "      <td>-0.019603</td>\n",
       "      <td>-0.069694</td>\n",
       "      <td>0.030680</td>\n",
       "      <td>0.402507</td>\n",
       "      <td>0.629941</td>\n",
       "      <td>-0.035987</td>\n",
       "      <td>-0.079798</td>\n",
       "    </tr>\n",
       "    <tr>\n",
       "      <th>Tax Liens</th>\n",
       "      <td>0.063135</td>\n",
       "      <td>1.000000</td>\n",
       "      <td>-0.005448</td>\n",
       "      <td>0.009124</td>\n",
       "      <td>-0.002415</td>\n",
       "      <td>0.595340</td>\n",
       "      <td>0.057360</td>\n",
       "      <td>-0.007785</td>\n",
       "      <td>-0.010267</td>\n",
       "      <td>0.027040</td>\n",
       "      <td>0.009966</td>\n",
       "      <td>0.024393</td>\n",
       "    </tr>\n",
       "    <tr>\n",
       "      <th>Number of Open Accounts</th>\n",
       "      <td>0.210633</td>\n",
       "      <td>-0.005448</td>\n",
       "      <td>1.000000</td>\n",
       "      <td>0.144933</td>\n",
       "      <td>0.023846</td>\n",
       "      <td>-0.018085</td>\n",
       "      <td>-0.019130</td>\n",
       "      <td>0.002472</td>\n",
       "      <td>0.266515</td>\n",
       "      <td>0.413439</td>\n",
       "      <td>0.017301</td>\n",
       "      <td>0.028520</td>\n",
       "    </tr>\n",
       "    <tr>\n",
       "      <th>Years of Credit History</th>\n",
       "      <td>0.185828</td>\n",
       "      <td>0.009124</td>\n",
       "      <td>0.144933</td>\n",
       "      <td>1.000000</td>\n",
       "      <td>0.029262</td>\n",
       "      <td>0.071351</td>\n",
       "      <td>0.085699</td>\n",
       "      <td>0.009275</td>\n",
       "      <td>0.217856</td>\n",
       "      <td>0.192214</td>\n",
       "      <td>-0.014477</td>\n",
       "      <td>-0.019956</td>\n",
       "    </tr>\n",
       "    <tr>\n",
       "      <th>Maximum Open Credit</th>\n",
       "      <td>0.015192</td>\n",
       "      <td>-0.002415</td>\n",
       "      <td>0.023846</td>\n",
       "      <td>0.029262</td>\n",
       "      <td>1.000000</td>\n",
       "      <td>-0.004767</td>\n",
       "      <td>-0.011650</td>\n",
       "      <td>-0.002307</td>\n",
       "      <td>0.088080</td>\n",
       "      <td>0.010135</td>\n",
       "      <td>-0.008942</td>\n",
       "      <td>-0.014292</td>\n",
       "    </tr>\n",
       "    <tr>\n",
       "      <th>Number of Credit Problems</th>\n",
       "      <td>-0.019603</td>\n",
       "      <td>0.595340</td>\n",
       "      <td>-0.018085</td>\n",
       "      <td>0.071351</td>\n",
       "      <td>-0.004767</td>\n",
       "      <td>1.000000</td>\n",
       "      <td>0.730751</td>\n",
       "      <td>-0.008417</td>\n",
       "      <td>-0.124423</td>\n",
       "      <td>-0.042942</td>\n",
       "      <td>-0.018543</td>\n",
       "      <td>0.020115</td>\n",
       "    </tr>\n",
       "    <tr>\n",
       "      <th>Bankruptcies</th>\n",
       "      <td>-0.069694</td>\n",
       "      <td>0.057360</td>\n",
       "      <td>-0.019130</td>\n",
       "      <td>0.085699</td>\n",
       "      <td>-0.011650</td>\n",
       "      <td>0.730751</td>\n",
       "      <td>1.000000</td>\n",
       "      <td>-0.005987</td>\n",
       "      <td>-0.142849</td>\n",
       "      <td>-0.079579</td>\n",
       "      <td>-0.027508</td>\n",
       "      <td>0.001648</td>\n",
       "    </tr>\n",
       "    <tr>\n",
       "      <th>Current Loan Amount</th>\n",
       "      <td>0.030680</td>\n",
       "      <td>-0.007785</td>\n",
       "      <td>0.002472</td>\n",
       "      <td>0.009275</td>\n",
       "      <td>-0.002307</td>\n",
       "      <td>-0.008417</td>\n",
       "      <td>-0.005987</td>\n",
       "      <td>1.000000</td>\n",
       "      <td>0.017020</td>\n",
       "      <td>-0.008481</td>\n",
       "      <td>-0.107983</td>\n",
       "      <td>-0.226311</td>\n",
       "    </tr>\n",
       "    <tr>\n",
       "      <th>Current Credit Balance</th>\n",
       "      <td>0.402507</td>\n",
       "      <td>-0.010267</td>\n",
       "      <td>0.266515</td>\n",
       "      <td>0.217856</td>\n",
       "      <td>0.088080</td>\n",
       "      <td>-0.124423</td>\n",
       "      <td>-0.142849</td>\n",
       "      <td>0.017020</td>\n",
       "      <td>1.000000</td>\n",
       "      <td>0.504624</td>\n",
       "      <td>-0.004688</td>\n",
       "      <td>-0.019488</td>\n",
       "    </tr>\n",
       "    <tr>\n",
       "      <th>Monthly Debt</th>\n",
       "      <td>0.629941</td>\n",
       "      <td>0.027040</td>\n",
       "      <td>0.413439</td>\n",
       "      <td>0.192214</td>\n",
       "      <td>0.010135</td>\n",
       "      <td>-0.042942</td>\n",
       "      <td>-0.079579</td>\n",
       "      <td>-0.008481</td>\n",
       "      <td>0.504624</td>\n",
       "      <td>1.000000</td>\n",
       "      <td>0.002360</td>\n",
       "      <td>0.018775</td>\n",
       "    </tr>\n",
       "    <tr>\n",
       "      <th>Credit Score</th>\n",
       "      <td>-0.035987</td>\n",
       "      <td>0.009966</td>\n",
       "      <td>0.017301</td>\n",
       "      <td>-0.014477</td>\n",
       "      <td>-0.008942</td>\n",
       "      <td>-0.018543</td>\n",
       "      <td>-0.027508</td>\n",
       "      <td>-0.107983</td>\n",
       "      <td>-0.004688</td>\n",
       "      <td>0.002360</td>\n",
       "      <td>1.000000</td>\n",
       "      <td>0.440371</td>\n",
       "    </tr>\n",
       "    <tr>\n",
       "      <th>Credit Default</th>\n",
       "      <td>-0.079798</td>\n",
       "      <td>0.024393</td>\n",
       "      <td>0.028520</td>\n",
       "      <td>-0.019956</td>\n",
       "      <td>-0.014292</td>\n",
       "      <td>0.020115</td>\n",
       "      <td>0.001648</td>\n",
       "      <td>-0.226311</td>\n",
       "      <td>-0.019488</td>\n",
       "      <td>0.018775</td>\n",
       "      <td>0.440371</td>\n",
       "      <td>1.000000</td>\n",
       "    </tr>\n",
       "  </tbody>\n",
       "</table>\n",
       "</div>"
      ],
      "text/plain": [
       "                           Annual Income  Tax Liens  Number of Open Accounts  \\\n",
       "Annual Income                   1.000000   0.063135                 0.210633   \n",
       "Tax Liens                       0.063135   1.000000                -0.005448   \n",
       "Number of Open Accounts         0.210633  -0.005448                 1.000000   \n",
       "Years of Credit History         0.185828   0.009124                 0.144933   \n",
       "Maximum Open Credit             0.015192  -0.002415                 0.023846   \n",
       "Number of Credit Problems      -0.019603   0.595340                -0.018085   \n",
       "Bankruptcies                   -0.069694   0.057360                -0.019130   \n",
       "Current Loan Amount             0.030680  -0.007785                 0.002472   \n",
       "Current Credit Balance          0.402507  -0.010267                 0.266515   \n",
       "Monthly Debt                    0.629941   0.027040                 0.413439   \n",
       "Credit Score                   -0.035987   0.009966                 0.017301   \n",
       "Credit Default                 -0.079798   0.024393                 0.028520   \n",
       "\n",
       "                           Years of Credit History  Maximum Open Credit  \\\n",
       "Annual Income                             0.185828             0.015192   \n",
       "Tax Liens                                 0.009124            -0.002415   \n",
       "Number of Open Accounts                   0.144933             0.023846   \n",
       "Years of Credit History                   1.000000             0.029262   \n",
       "Maximum Open Credit                       0.029262             1.000000   \n",
       "Number of Credit Problems                 0.071351            -0.004767   \n",
       "Bankruptcies                              0.085699            -0.011650   \n",
       "Current Loan Amount                       0.009275            -0.002307   \n",
       "Current Credit Balance                    0.217856             0.088080   \n",
       "Monthly Debt                              0.192214             0.010135   \n",
       "Credit Score                             -0.014477            -0.008942   \n",
       "Credit Default                           -0.019956            -0.014292   \n",
       "\n",
       "                           Number of Credit Problems  Bankruptcies  \\\n",
       "Annual Income                              -0.019603     -0.069694   \n",
       "Tax Liens                                   0.595340      0.057360   \n",
       "Number of Open Accounts                    -0.018085     -0.019130   \n",
       "Years of Credit History                     0.071351      0.085699   \n",
       "Maximum Open Credit                        -0.004767     -0.011650   \n",
       "Number of Credit Problems                   1.000000      0.730751   \n",
       "Bankruptcies                                0.730751      1.000000   \n",
       "Current Loan Amount                        -0.008417     -0.005987   \n",
       "Current Credit Balance                     -0.124423     -0.142849   \n",
       "Monthly Debt                               -0.042942     -0.079579   \n",
       "Credit Score                               -0.018543     -0.027508   \n",
       "Credit Default                              0.020115      0.001648   \n",
       "\n",
       "                           Current Loan Amount  Current Credit Balance  \\\n",
       "Annual Income                         0.030680                0.402507   \n",
       "Tax Liens                            -0.007785               -0.010267   \n",
       "Number of Open Accounts               0.002472                0.266515   \n",
       "Years of Credit History               0.009275                0.217856   \n",
       "Maximum Open Credit                  -0.002307                0.088080   \n",
       "Number of Credit Problems            -0.008417               -0.124423   \n",
       "Bankruptcies                         -0.005987               -0.142849   \n",
       "Current Loan Amount                   1.000000                0.017020   \n",
       "Current Credit Balance                0.017020                1.000000   \n",
       "Monthly Debt                         -0.008481                0.504624   \n",
       "Credit Score                         -0.107983               -0.004688   \n",
       "Credit Default                       -0.226311               -0.019488   \n",
       "\n",
       "                           Monthly Debt  Credit Score  Credit Default  \n",
       "Annual Income                  0.629941     -0.035987       -0.079798  \n",
       "Tax Liens                      0.027040      0.009966        0.024393  \n",
       "Number of Open Accounts        0.413439      0.017301        0.028520  \n",
       "Years of Credit History        0.192214     -0.014477       -0.019956  \n",
       "Maximum Open Credit            0.010135     -0.008942       -0.014292  \n",
       "Number of Credit Problems     -0.042942     -0.018543        0.020115  \n",
       "Bankruptcies                  -0.079579     -0.027508        0.001648  \n",
       "Current Loan Amount           -0.008481     -0.107983       -0.226311  \n",
       "Current Credit Balance         0.504624     -0.004688       -0.019488  \n",
       "Monthly Debt                   1.000000      0.002360        0.018775  \n",
       "Credit Score                   0.002360      1.000000        0.440371  \n",
       "Credit Default                 0.018775      0.440371        1.000000  "
      ]
     },
     "execution_count": 42,
     "metadata": {},
     "output_type": "execute_result"
    }
   ],
   "source": [
    "train.corr()"
   ]
  },
  {
   "cell_type": "code",
   "execution_count": 43,
   "metadata": {},
   "outputs": [
    {
     "data": {
      "text/html": [
       "<div>\n",
       "<style scoped>\n",
       "    .dataframe tbody tr th:only-of-type {\n",
       "        vertical-align: middle;\n",
       "    }\n",
       "\n",
       "    .dataframe tbody tr th {\n",
       "        vertical-align: top;\n",
       "    }\n",
       "\n",
       "    .dataframe thead th {\n",
       "        text-align: right;\n",
       "    }\n",
       "</style>\n",
       "<table border=\"1\" class=\"dataframe\">\n",
       "  <thead>\n",
       "    <tr style=\"text-align: right;\">\n",
       "      <th></th>\n",
       "      <th>Annual Income</th>\n",
       "      <th>Tax Liens</th>\n",
       "      <th>Number of Open Accounts</th>\n",
       "      <th>Years of Credit History</th>\n",
       "      <th>Maximum Open Credit</th>\n",
       "      <th>Number of Credit Problems</th>\n",
       "      <th>Bankruptcies</th>\n",
       "      <th>Current Loan Amount</th>\n",
       "      <th>Current Credit Balance</th>\n",
       "      <th>Monthly Debt</th>\n",
       "      <th>Credit Score</th>\n",
       "    </tr>\n",
       "  </thead>\n",
       "  <tbody>\n",
       "    <tr>\n",
       "      <th>Annual Income</th>\n",
       "      <td>1.000000</td>\n",
       "      <td>0.029834</td>\n",
       "      <td>0.158578</td>\n",
       "      <td>0.184168</td>\n",
       "      <td>0.196909</td>\n",
       "      <td>-0.014134</td>\n",
       "      <td>-0.051807</td>\n",
       "      <td>-0.004999</td>\n",
       "      <td>0.340622</td>\n",
       "      <td>0.545571</td>\n",
       "      <td>-0.046947</td>\n",
       "    </tr>\n",
       "    <tr>\n",
       "      <th>Tax Liens</th>\n",
       "      <td>0.029834</td>\n",
       "      <td>1.000000</td>\n",
       "      <td>-0.009228</td>\n",
       "      <td>0.004386</td>\n",
       "      <td>-0.014659</td>\n",
       "      <td>0.715545</td>\n",
       "      <td>0.016254</td>\n",
       "      <td>-0.004599</td>\n",
       "      <td>-0.010357</td>\n",
       "      <td>-0.004147</td>\n",
       "      <td>-0.013496</td>\n",
       "    </tr>\n",
       "    <tr>\n",
       "      <th>Number of Open Accounts</th>\n",
       "      <td>0.158578</td>\n",
       "      <td>-0.009228</td>\n",
       "      <td>1.000000</td>\n",
       "      <td>0.108705</td>\n",
       "      <td>0.190505</td>\n",
       "      <td>-0.029556</td>\n",
       "      <td>-0.039553</td>\n",
       "      <td>0.023073</td>\n",
       "      <td>0.223589</td>\n",
       "      <td>0.415060</td>\n",
       "      <td>0.004887</td>\n",
       "    </tr>\n",
       "    <tr>\n",
       "      <th>Years of Credit History</th>\n",
       "      <td>0.184168</td>\n",
       "      <td>0.004386</td>\n",
       "      <td>0.108705</td>\n",
       "      <td>1.000000</td>\n",
       "      <td>0.143173</td>\n",
       "      <td>0.072036</td>\n",
       "      <td>0.101417</td>\n",
       "      <td>-0.016172</td>\n",
       "      <td>0.214668</td>\n",
       "      <td>0.192880</td>\n",
       "      <td>0.006600</td>\n",
       "    </tr>\n",
       "    <tr>\n",
       "      <th>Maximum Open Credit</th>\n",
       "      <td>0.196909</td>\n",
       "      <td>-0.014659</td>\n",
       "      <td>0.190505</td>\n",
       "      <td>0.143173</td>\n",
       "      <td>1.000000</td>\n",
       "      <td>-0.060845</td>\n",
       "      <td>-0.067368</td>\n",
       "      <td>0.004267</td>\n",
       "      <td>0.667832</td>\n",
       "      <td>0.245732</td>\n",
       "      <td>-0.026115</td>\n",
       "    </tr>\n",
       "    <tr>\n",
       "      <th>Number of Credit Problems</th>\n",
       "      <td>-0.014134</td>\n",
       "      <td>0.715545</td>\n",
       "      <td>-0.029556</td>\n",
       "      <td>0.072036</td>\n",
       "      <td>-0.060845</td>\n",
       "      <td>1.000000</td>\n",
       "      <td>0.642138</td>\n",
       "      <td>-0.018175</td>\n",
       "      <td>-0.097057</td>\n",
       "      <td>-0.047975</td>\n",
       "      <td>0.023407</td>\n",
       "    </tr>\n",
       "    <tr>\n",
       "      <th>Bankruptcies</th>\n",
       "      <td>-0.051807</td>\n",
       "      <td>0.016254</td>\n",
       "      <td>-0.039553</td>\n",
       "      <td>0.101417</td>\n",
       "      <td>-0.067368</td>\n",
       "      <td>0.642138</td>\n",
       "      <td>1.000000</td>\n",
       "      <td>-0.006301</td>\n",
       "      <td>-0.119453</td>\n",
       "      <td>-0.055484</td>\n",
       "      <td>0.035000</td>\n",
       "    </tr>\n",
       "    <tr>\n",
       "      <th>Current Loan Amount</th>\n",
       "      <td>-0.004999</td>\n",
       "      <td>-0.004599</td>\n",
       "      <td>0.023073</td>\n",
       "      <td>-0.016172</td>\n",
       "      <td>0.004267</td>\n",
       "      <td>-0.018175</td>\n",
       "      <td>-0.006301</td>\n",
       "      <td>1.000000</td>\n",
       "      <td>0.007324</td>\n",
       "      <td>0.004710</td>\n",
       "      <td>-0.121797</td>\n",
       "    </tr>\n",
       "    <tr>\n",
       "      <th>Current Credit Balance</th>\n",
       "      <td>0.340622</td>\n",
       "      <td>-0.010357</td>\n",
       "      <td>0.223589</td>\n",
       "      <td>0.214668</td>\n",
       "      <td>0.667832</td>\n",
       "      <td>-0.097057</td>\n",
       "      <td>-0.119453</td>\n",
       "      <td>0.007324</td>\n",
       "      <td>1.000000</td>\n",
       "      <td>0.504670</td>\n",
       "      <td>-0.017809</td>\n",
       "    </tr>\n",
       "    <tr>\n",
       "      <th>Monthly Debt</th>\n",
       "      <td>0.545571</td>\n",
       "      <td>-0.004147</td>\n",
       "      <td>0.415060</td>\n",
       "      <td>0.192880</td>\n",
       "      <td>0.245732</td>\n",
       "      <td>-0.047975</td>\n",
       "      <td>-0.055484</td>\n",
       "      <td>0.004710</td>\n",
       "      <td>0.504670</td>\n",
       "      <td>1.000000</td>\n",
       "      <td>0.004745</td>\n",
       "    </tr>\n",
       "    <tr>\n",
       "      <th>Credit Score</th>\n",
       "      <td>-0.046947</td>\n",
       "      <td>-0.013496</td>\n",
       "      <td>0.004887</td>\n",
       "      <td>0.006600</td>\n",
       "      <td>-0.026115</td>\n",
       "      <td>0.023407</td>\n",
       "      <td>0.035000</td>\n",
       "      <td>-0.121797</td>\n",
       "      <td>-0.017809</td>\n",
       "      <td>0.004745</td>\n",
       "      <td>1.000000</td>\n",
       "    </tr>\n",
       "  </tbody>\n",
       "</table>\n",
       "</div>"
      ],
      "text/plain": [
       "                           Annual Income  Tax Liens  Number of Open Accounts  \\\n",
       "Annual Income                   1.000000   0.029834                 0.158578   \n",
       "Tax Liens                       0.029834   1.000000                -0.009228   \n",
       "Number of Open Accounts         0.158578  -0.009228                 1.000000   \n",
       "Years of Credit History         0.184168   0.004386                 0.108705   \n",
       "Maximum Open Credit             0.196909  -0.014659                 0.190505   \n",
       "Number of Credit Problems      -0.014134   0.715545                -0.029556   \n",
       "Bankruptcies                   -0.051807   0.016254                -0.039553   \n",
       "Current Loan Amount            -0.004999  -0.004599                 0.023073   \n",
       "Current Credit Balance          0.340622  -0.010357                 0.223589   \n",
       "Monthly Debt                    0.545571  -0.004147                 0.415060   \n",
       "Credit Score                   -0.046947  -0.013496                 0.004887   \n",
       "\n",
       "                           Years of Credit History  Maximum Open Credit  \\\n",
       "Annual Income                             0.184168             0.196909   \n",
       "Tax Liens                                 0.004386            -0.014659   \n",
       "Number of Open Accounts                   0.108705             0.190505   \n",
       "Years of Credit History                   1.000000             0.143173   \n",
       "Maximum Open Credit                       0.143173             1.000000   \n",
       "Number of Credit Problems                 0.072036            -0.060845   \n",
       "Bankruptcies                              0.101417            -0.067368   \n",
       "Current Loan Amount                      -0.016172             0.004267   \n",
       "Current Credit Balance                    0.214668             0.667832   \n",
       "Monthly Debt                              0.192880             0.245732   \n",
       "Credit Score                              0.006600            -0.026115   \n",
       "\n",
       "                           Number of Credit Problems  Bankruptcies  \\\n",
       "Annual Income                              -0.014134     -0.051807   \n",
       "Tax Liens                                   0.715545      0.016254   \n",
       "Number of Open Accounts                    -0.029556     -0.039553   \n",
       "Years of Credit History                     0.072036      0.101417   \n",
       "Maximum Open Credit                        -0.060845     -0.067368   \n",
       "Number of Credit Problems                   1.000000      0.642138   \n",
       "Bankruptcies                                0.642138      1.000000   \n",
       "Current Loan Amount                        -0.018175     -0.006301   \n",
       "Current Credit Balance                     -0.097057     -0.119453   \n",
       "Monthly Debt                               -0.047975     -0.055484   \n",
       "Credit Score                                0.023407      0.035000   \n",
       "\n",
       "                           Current Loan Amount  Current Credit Balance  \\\n",
       "Annual Income                        -0.004999                0.340622   \n",
       "Tax Liens                            -0.004599               -0.010357   \n",
       "Number of Open Accounts               0.023073                0.223589   \n",
       "Years of Credit History              -0.016172                0.214668   \n",
       "Maximum Open Credit                   0.004267                0.667832   \n",
       "Number of Credit Problems            -0.018175               -0.097057   \n",
       "Bankruptcies                         -0.006301               -0.119453   \n",
       "Current Loan Amount                   1.000000                0.007324   \n",
       "Current Credit Balance                0.007324                1.000000   \n",
       "Monthly Debt                          0.004710                0.504670   \n",
       "Credit Score                         -0.121797               -0.017809   \n",
       "\n",
       "                           Monthly Debt  Credit Score  \n",
       "Annual Income                  0.545571     -0.046947  \n",
       "Tax Liens                     -0.004147     -0.013496  \n",
       "Number of Open Accounts        0.415060      0.004887  \n",
       "Years of Credit History        0.192880      0.006600  \n",
       "Maximum Open Credit            0.245732     -0.026115  \n",
       "Number of Credit Problems     -0.047975      0.023407  \n",
       "Bankruptcies                  -0.055484      0.035000  \n",
       "Current Loan Amount            0.004710     -0.121797  \n",
       "Current Credit Balance         0.504670     -0.017809  \n",
       "Monthly Debt                   1.000000      0.004745  \n",
       "Credit Score                   0.004745      1.000000  "
      ]
     },
     "execution_count": 43,
     "metadata": {},
     "output_type": "execute_result"
    }
   ],
   "source": [
    "test.corr()"
   ]
  },
  {
   "cell_type": "code",
   "execution_count": 44,
   "metadata": {},
   "outputs": [
    {
     "name": "stdout",
     "output_type": "stream",
     "text": [
      "5937\n"
     ]
    }
   ],
   "source": [
    "X = train.loc[train[\"Credit Score\"].notnull()]\n",
    "print(X.shape[0])"
   ]
  },
  {
   "cell_type": "code",
   "execution_count": 45,
   "metadata": {},
   "outputs": [
    {
     "name": "stdout",
     "output_type": "stream",
     "text": [
      "5937 5937\n"
     ]
    }
   ],
   "source": [
    "Y = X[\"Credit Score\"]\n",
    "X = X[[x for x in X.columns if x != 'Credit Score' and x != 'Credit Default']]\n",
    "print(X.shape[0],Y.shape[0])"
   ]
  },
  {
   "cell_type": "code",
   "execution_count": 46,
   "metadata": {},
   "outputs": [],
   "source": [
    "#getting dummy variables for the categorical variables\n",
    "dummy_cols = [\"Home Ownership\",\"Years in current job\",\"Purpose\",\"Term\"]\n",
    "for col in dummy_cols:\n",
    "    X = pd.concat([X,pd.get_dummies(X[col]).iloc[:,1:]],axis=1)\n",
    "    X.drop(columns = [col],inplace=True)"
   ]
  },
  {
   "cell_type": "code",
   "execution_count": 47,
   "metadata": {},
   "outputs": [
    {
     "data": {
      "text/html": [
       "<div>\n",
       "<style scoped>\n",
       "    .dataframe tbody tr th:only-of-type {\n",
       "        vertical-align: middle;\n",
       "    }\n",
       "\n",
       "    .dataframe tbody tr th {\n",
       "        vertical-align: top;\n",
       "    }\n",
       "\n",
       "    .dataframe thead th {\n",
       "        text-align: right;\n",
       "    }\n",
       "</style>\n",
       "<table border=\"1\" class=\"dataframe\">\n",
       "  <thead>\n",
       "    <tr style=\"text-align: right;\">\n",
       "      <th></th>\n",
       "      <th>Annual Income</th>\n",
       "      <th>Tax Liens</th>\n",
       "      <th>Number of Open Accounts</th>\n",
       "      <th>Years of Credit History</th>\n",
       "      <th>Maximum Open Credit</th>\n",
       "      <th>Number of Credit Problems</th>\n",
       "      <th>Bankruptcies</th>\n",
       "      <th>Current Loan Amount</th>\n",
       "      <th>Current Credit Balance</th>\n",
       "      <th>Monthly Debt</th>\n",
       "      <th>...</th>\n",
       "      <th>home improvements</th>\n",
       "      <th>major purchase</th>\n",
       "      <th>medical bills</th>\n",
       "      <th>moving</th>\n",
       "      <th>other</th>\n",
       "      <th>small business</th>\n",
       "      <th>take a trip</th>\n",
       "      <th>vacation</th>\n",
       "      <th>wedding</th>\n",
       "      <th>Short Term</th>\n",
       "    </tr>\n",
       "  </thead>\n",
       "  <tbody>\n",
       "    <tr>\n",
       "      <th>0</th>\n",
       "      <td>482087.0</td>\n",
       "      <td>0.0</td>\n",
       "      <td>11.0</td>\n",
       "      <td>26.3</td>\n",
       "      <td>685960.0</td>\n",
       "      <td>1.0</td>\n",
       "      <td>1.0</td>\n",
       "      <td>99999999.0</td>\n",
       "      <td>47386.0</td>\n",
       "      <td>7914.0</td>\n",
       "      <td>...</td>\n",
       "      <td>0</td>\n",
       "      <td>0</td>\n",
       "      <td>0</td>\n",
       "      <td>0</td>\n",
       "      <td>0</td>\n",
       "      <td>0</td>\n",
       "      <td>0</td>\n",
       "      <td>0</td>\n",
       "      <td>0</td>\n",
       "      <td>1</td>\n",
       "    </tr>\n",
       "    <tr>\n",
       "      <th>1</th>\n",
       "      <td>1025487.0</td>\n",
       "      <td>0.0</td>\n",
       "      <td>15.0</td>\n",
       "      <td>15.3</td>\n",
       "      <td>1181730.0</td>\n",
       "      <td>0.0</td>\n",
       "      <td>0.0</td>\n",
       "      <td>264968.0</td>\n",
       "      <td>394972.0</td>\n",
       "      <td>18373.0</td>\n",
       "      <td>...</td>\n",
       "      <td>0</td>\n",
       "      <td>0</td>\n",
       "      <td>0</td>\n",
       "      <td>0</td>\n",
       "      <td>0</td>\n",
       "      <td>0</td>\n",
       "      <td>0</td>\n",
       "      <td>0</td>\n",
       "      <td>0</td>\n",
       "      <td>0</td>\n",
       "    </tr>\n",
       "    <tr>\n",
       "      <th>2</th>\n",
       "      <td>751412.0</td>\n",
       "      <td>0.0</td>\n",
       "      <td>11.0</td>\n",
       "      <td>35.0</td>\n",
       "      <td>1182434.0</td>\n",
       "      <td>0.0</td>\n",
       "      <td>0.0</td>\n",
       "      <td>99999999.0</td>\n",
       "      <td>308389.0</td>\n",
       "      <td>13651.0</td>\n",
       "      <td>...</td>\n",
       "      <td>0</td>\n",
       "      <td>0</td>\n",
       "      <td>0</td>\n",
       "      <td>0</td>\n",
       "      <td>0</td>\n",
       "      <td>0</td>\n",
       "      <td>0</td>\n",
       "      <td>0</td>\n",
       "      <td>0</td>\n",
       "      <td>1</td>\n",
       "    </tr>\n",
       "    <tr>\n",
       "      <th>3</th>\n",
       "      <td>805068.0</td>\n",
       "      <td>0.0</td>\n",
       "      <td>8.0</td>\n",
       "      <td>22.5</td>\n",
       "      <td>147400.0</td>\n",
       "      <td>1.0</td>\n",
       "      <td>1.0</td>\n",
       "      <td>121396.0</td>\n",
       "      <td>95855.0</td>\n",
       "      <td>11338.0</td>\n",
       "      <td>...</td>\n",
       "      <td>0</td>\n",
       "      <td>0</td>\n",
       "      <td>0</td>\n",
       "      <td>0</td>\n",
       "      <td>0</td>\n",
       "      <td>0</td>\n",
       "      <td>0</td>\n",
       "      <td>0</td>\n",
       "      <td>0</td>\n",
       "      <td>1</td>\n",
       "    </tr>\n",
       "    <tr>\n",
       "      <th>4</th>\n",
       "      <td>776264.0</td>\n",
       "      <td>0.0</td>\n",
       "      <td>13.0</td>\n",
       "      <td>13.6</td>\n",
       "      <td>385836.0</td>\n",
       "      <td>1.0</td>\n",
       "      <td>0.0</td>\n",
       "      <td>125840.0</td>\n",
       "      <td>93309.0</td>\n",
       "      <td>7180.0</td>\n",
       "      <td>...</td>\n",
       "      <td>0</td>\n",
       "      <td>0</td>\n",
       "      <td>0</td>\n",
       "      <td>0</td>\n",
       "      <td>0</td>\n",
       "      <td>0</td>\n",
       "      <td>0</td>\n",
       "      <td>0</td>\n",
       "      <td>0</td>\n",
       "      <td>1</td>\n",
       "    </tr>\n",
       "    <tr>\n",
       "      <th>...</th>\n",
       "      <td>...</td>\n",
       "      <td>...</td>\n",
       "      <td>...</td>\n",
       "      <td>...</td>\n",
       "      <td>...</td>\n",
       "      <td>...</td>\n",
       "      <td>...</td>\n",
       "      <td>...</td>\n",
       "      <td>...</td>\n",
       "      <td>...</td>\n",
       "      <td>...</td>\n",
       "      <td>...</td>\n",
       "      <td>...</td>\n",
       "      <td>...</td>\n",
       "      <td>...</td>\n",
       "      <td>...</td>\n",
       "      <td>...</td>\n",
       "      <td>...</td>\n",
       "      <td>...</td>\n",
       "      <td>...</td>\n",
       "      <td>...</td>\n",
       "    </tr>\n",
       "    <tr>\n",
       "      <th>7491</th>\n",
       "      <td>2833185.0</td>\n",
       "      <td>0.0</td>\n",
       "      <td>18.0</td>\n",
       "      <td>21.3</td>\n",
       "      <td>280170.0</td>\n",
       "      <td>0.0</td>\n",
       "      <td>0.0</td>\n",
       "      <td>437404.0</td>\n",
       "      <td>108889.0</td>\n",
       "      <td>61150.0</td>\n",
       "      <td>...</td>\n",
       "      <td>0</td>\n",
       "      <td>0</td>\n",
       "      <td>0</td>\n",
       "      <td>0</td>\n",
       "      <td>0</td>\n",
       "      <td>0</td>\n",
       "      <td>0</td>\n",
       "      <td>0</td>\n",
       "      <td>0</td>\n",
       "      <td>1</td>\n",
       "    </tr>\n",
       "    <tr>\n",
       "      <th>7493</th>\n",
       "      <td>1257610.0</td>\n",
       "      <td>0.0</td>\n",
       "      <td>14.0</td>\n",
       "      <td>16.5</td>\n",
       "      <td>821480.0</td>\n",
       "      <td>0.0</td>\n",
       "      <td>0.0</td>\n",
       "      <td>448052.0</td>\n",
       "      <td>167428.0</td>\n",
       "      <td>27562.0</td>\n",
       "      <td>...</td>\n",
       "      <td>0</td>\n",
       "      <td>0</td>\n",
       "      <td>0</td>\n",
       "      <td>0</td>\n",
       "      <td>0</td>\n",
       "      <td>0</td>\n",
       "      <td>0</td>\n",
       "      <td>0</td>\n",
       "      <td>0</td>\n",
       "      <td>0</td>\n",
       "    </tr>\n",
       "    <tr>\n",
       "      <th>7495</th>\n",
       "      <td>402192.0</td>\n",
       "      <td>0.0</td>\n",
       "      <td>3.0</td>\n",
       "      <td>8.5</td>\n",
       "      <td>107866.0</td>\n",
       "      <td>0.0</td>\n",
       "      <td>0.0</td>\n",
       "      <td>129360.0</td>\n",
       "      <td>73492.0</td>\n",
       "      <td>1900.0</td>\n",
       "      <td>...</td>\n",
       "      <td>0</td>\n",
       "      <td>0</td>\n",
       "      <td>0</td>\n",
       "      <td>0</td>\n",
       "      <td>1</td>\n",
       "      <td>0</td>\n",
       "      <td>0</td>\n",
       "      <td>0</td>\n",
       "      <td>0</td>\n",
       "      <td>1</td>\n",
       "    </tr>\n",
       "    <tr>\n",
       "      <th>7496</th>\n",
       "      <td>1533984.0</td>\n",
       "      <td>0.0</td>\n",
       "      <td>10.0</td>\n",
       "      <td>26.5</td>\n",
       "      <td>686312.0</td>\n",
       "      <td>0.0</td>\n",
       "      <td>0.0</td>\n",
       "      <td>444048.0</td>\n",
       "      <td>456399.0</td>\n",
       "      <td>12783.0</td>\n",
       "      <td>...</td>\n",
       "      <td>0</td>\n",
       "      <td>0</td>\n",
       "      <td>0</td>\n",
       "      <td>0</td>\n",
       "      <td>0</td>\n",
       "      <td>0</td>\n",
       "      <td>0</td>\n",
       "      <td>0</td>\n",
       "      <td>0</td>\n",
       "      <td>0</td>\n",
       "    </tr>\n",
       "    <tr>\n",
       "      <th>7497</th>\n",
       "      <td>1878910.0</td>\n",
       "      <td>0.0</td>\n",
       "      <td>12.0</td>\n",
       "      <td>32.1</td>\n",
       "      <td>1778920.0</td>\n",
       "      <td>0.0</td>\n",
       "      <td>0.0</td>\n",
       "      <td>99999999.0</td>\n",
       "      <td>477812.0</td>\n",
       "      <td>12479.0</td>\n",
       "      <td>...</td>\n",
       "      <td>0</td>\n",
       "      <td>0</td>\n",
       "      <td>0</td>\n",
       "      <td>0</td>\n",
       "      <td>0</td>\n",
       "      <td>0</td>\n",
       "      <td>0</td>\n",
       "      <td>0</td>\n",
       "      <td>0</td>\n",
       "      <td>1</td>\n",
       "    </tr>\n",
       "  </tbody>\n",
       "</table>\n",
       "<p>5937 rows × 37 columns</p>\n",
       "</div>"
      ],
      "text/plain": [
       "      Annual Income  Tax Liens  Number of Open Accounts  \\\n",
       "0          482087.0        0.0                     11.0   \n",
       "1         1025487.0        0.0                     15.0   \n",
       "2          751412.0        0.0                     11.0   \n",
       "3          805068.0        0.0                      8.0   \n",
       "4          776264.0        0.0                     13.0   \n",
       "...             ...        ...                      ...   \n",
       "7491      2833185.0        0.0                     18.0   \n",
       "7493      1257610.0        0.0                     14.0   \n",
       "7495       402192.0        0.0                      3.0   \n",
       "7496      1533984.0        0.0                     10.0   \n",
       "7497      1878910.0        0.0                     12.0   \n",
       "\n",
       "      Years of Credit History  Maximum Open Credit  Number of Credit Problems  \\\n",
       "0                        26.3             685960.0                        1.0   \n",
       "1                        15.3            1181730.0                        0.0   \n",
       "2                        35.0            1182434.0                        0.0   \n",
       "3                        22.5             147400.0                        1.0   \n",
       "4                        13.6             385836.0                        1.0   \n",
       "...                       ...                  ...                        ...   \n",
       "7491                     21.3             280170.0                        0.0   \n",
       "7493                     16.5             821480.0                        0.0   \n",
       "7495                      8.5             107866.0                        0.0   \n",
       "7496                     26.5             686312.0                        0.0   \n",
       "7497                     32.1            1778920.0                        0.0   \n",
       "\n",
       "      Bankruptcies  Current Loan Amount  Current Credit Balance  Monthly Debt  \\\n",
       "0              1.0           99999999.0                 47386.0        7914.0   \n",
       "1              0.0             264968.0                394972.0       18373.0   \n",
       "2              0.0           99999999.0                308389.0       13651.0   \n",
       "3              1.0             121396.0                 95855.0       11338.0   \n",
       "4              0.0             125840.0                 93309.0        7180.0   \n",
       "...            ...                  ...                     ...           ...   \n",
       "7491           0.0             437404.0                108889.0       61150.0   \n",
       "7493           0.0             448052.0                167428.0       27562.0   \n",
       "7495           0.0             129360.0                 73492.0        1900.0   \n",
       "7496           0.0             444048.0                456399.0       12783.0   \n",
       "7497           0.0           99999999.0                477812.0       12479.0   \n",
       "\n",
       "      ...  home improvements  major purchase  medical bills  moving  other  \\\n",
       "0     ...                  0               0              0       0      0   \n",
       "1     ...                  0               0              0       0      0   \n",
       "2     ...                  0               0              0       0      0   \n",
       "3     ...                  0               0              0       0      0   \n",
       "4     ...                  0               0              0       0      0   \n",
       "...   ...                ...             ...            ...     ...    ...   \n",
       "7491  ...                  0               0              0       0      0   \n",
       "7493  ...                  0               0              0       0      0   \n",
       "7495  ...                  0               0              0       0      1   \n",
       "7496  ...                  0               0              0       0      0   \n",
       "7497  ...                  0               0              0       0      0   \n",
       "\n",
       "      small business  take a trip  vacation  wedding  Short Term  \n",
       "0                  0            0         0        0           1  \n",
       "1                  0            0         0        0           0  \n",
       "2                  0            0         0        0           1  \n",
       "3                  0            0         0        0           1  \n",
       "4                  0            0         0        0           1  \n",
       "...              ...          ...       ...      ...         ...  \n",
       "7491               0            0         0        0           1  \n",
       "7493               0            0         0        0           0  \n",
       "7495               0            0         0        0           1  \n",
       "7496               0            0         0        0           0  \n",
       "7497               0            0         0        0           1  \n",
       "\n",
       "[5937 rows x 37 columns]"
      ]
     },
     "execution_count": 47,
     "metadata": {},
     "output_type": "execute_result"
    }
   ],
   "source": [
    "X"
   ]
  },
  {
   "cell_type": "code",
   "execution_count": 48,
   "metadata": {},
   "outputs": [
    {
     "name": "stdout",
     "output_type": "stream",
     "text": [
      "5540 397\n",
      "5540\n"
     ]
    }
   ],
   "source": [
    "Y = list(Y.values)\n",
    "ones = 0\n",
    "zero = 0\n",
    "for i,j in enumerate(Y):\n",
    "    if(j<2000):\n",
    "        Y[i]=0\n",
    "        zero+=1\n",
    "    else:\n",
    "        Y[i] = 1\n",
    "        ones+=1\n",
    "print(zero,ones)\n",
    "print(train.loc[train[\"Credit Score\"]<2000].shape[0])"
   ]
  },
  {
   "cell_type": "code",
   "execution_count": 49,
   "metadata": {},
   "outputs": [],
   "source": [
    "Y = np.array(Y)"
   ]
  },
  {
   "cell_type": "code",
   "execution_count": 50,
   "metadata": {},
   "outputs": [],
   "source": [
    "xtrain,xtest,ytrain,ytest = train_test_split(X,Y,test_size = 0.25,random_state = 0)"
   ]
  },
  {
   "cell_type": "code",
   "execution_count": 51,
   "metadata": {},
   "outputs": [],
   "source": [
    "from sklearn.neighbors import KNeighborsClassifier"
   ]
  },
  {
   "cell_type": "code",
   "execution_count": 52,
   "metadata": {},
   "outputs": [],
   "source": [
    "knn = KNeighborsClassifier()"
   ]
  },
  {
   "cell_type": "code",
   "execution_count": 53,
   "metadata": {},
   "outputs": [
    {
     "data": {
      "text/plain": [
       "GridSearchCV(cv=None, error_score=nan,\n",
       "             estimator=KNeighborsClassifier(algorithm='auto', leaf_size=30,\n",
       "                                            metric='minkowski',\n",
       "                                            metric_params=None, n_jobs=None,\n",
       "                                            n_neighbors=5, p=2,\n",
       "                                            weights='uniform'),\n",
       "             iid='deprecated', n_jobs=None,\n",
       "             param_grid=[{'algorithm': ['auto', 'ball_tree', 'kd_tree',\n",
       "                                        'brute'],\n",
       "                          'n_neighbors': [10, 11, 12]}],\n",
       "             pre_dispatch='2*n_jobs', refit=True, return_train_score=False,\n",
       "             scoring='accuracy', verbose=0)"
      ]
     },
     "execution_count": 53,
     "metadata": {},
     "output_type": "execute_result"
    }
   ],
   "source": [
    "parameters = [{'n_neighbors':[10,11,12],'algorithm' : ['auto', 'ball_tree', 'kd_tree', 'brute']}]\n",
    "knn_gs = GridSearchCV(estimator = knn,param_grid = parameters,scoring = 'accuracy')\n",
    "knn_gs.fit(xtrain,ytrain)"
   ]
  },
  {
   "cell_type": "code",
   "execution_count": 54,
   "metadata": {},
   "outputs": [
    {
     "data": {
      "text/plain": [
       "{'algorithm': 'auto', 'n_neighbors': 10}"
      ]
     },
     "execution_count": 54,
     "metadata": {},
     "output_type": "execute_result"
    }
   ],
   "source": [
    "knn_gs.best_params_"
   ]
  },
  {
   "cell_type": "code",
   "execution_count": 55,
   "metadata": {},
   "outputs": [
    {
     "name": "stderr",
     "output_type": "stream",
     "text": [
      "d:\\program files\\python\\lib\\site-packages\\sklearn\\metrics\\_classification.py:664: FutureWarning: jaccard_similarity_score has been deprecated and replaced with jaccard_score. It will be removed in version 0.23. This implementation has surprising behavior for binary and multiclass classification tasks.\n",
      "  FutureWarning)\n"
     ]
    },
    {
     "data": {
      "text/plain": [
       "0.9387205387205387"
      ]
     },
     "execution_count": 55,
     "metadata": {},
     "output_type": "execute_result"
    }
   ],
   "source": [
    "jaccard_similarity_score(ytest,knn_gs.predict(xtest))"
   ]
  },
  {
   "cell_type": "code",
   "execution_count": 56,
   "metadata": {},
   "outputs": [
    {
     "name": "stdout",
     "output_type": "stream",
     "text": [
      "1549\n"
     ]
    }
   ],
   "source": [
    "X = train.loc[train[\"Credit Score\"].isnull()]\n",
    "print(X.shape[0])"
   ]
  },
  {
   "cell_type": "code",
   "execution_count": 57,
   "metadata": {},
   "outputs": [
    {
     "name": "stdout",
     "output_type": "stream",
     "text": [
      "1549 1549\n"
     ]
    }
   ],
   "source": [
    "Y = X[\"Credit Score\"]\n",
    "X = X[[x for x in X.columns if x != 'Credit Score' and x != 'Credit Default']]\n",
    "print(X.shape[0],Y.shape[0])"
   ]
  },
  {
   "cell_type": "code",
   "execution_count": 58,
   "metadata": {},
   "outputs": [],
   "source": [
    "dummy_cols = [\"Home Ownership\",\"Years in current job\",\"Purpose\",\"Term\"]\n",
    "for col in dummy_cols:\n",
    "    X = pd.concat([X,pd.get_dummies(X[col]).iloc[:,1:]],axis=1)\n",
    "    X.drop(columns = [col],inplace=True)\n",
    "train_cols = X.columns"
   ]
  },
  {
   "cell_type": "code",
   "execution_count": 59,
   "metadata": {},
   "outputs": [],
   "source": [
    "X = X.values"
   ]
  },
  {
   "cell_type": "code",
   "execution_count": 60,
   "metadata": {},
   "outputs": [],
   "source": [
    "ypred = knn_gs.predict(X)"
   ]
  },
  {
   "cell_type": "code",
   "execution_count": 61,
   "metadata": {},
   "outputs": [],
   "source": [
    "for i,j in enumerate(ypred):\n",
    "    if(j==0):\n",
    "        ypred[i]=mean_low\n",
    "    else:\n",
    "        ypred[i]=mean_high"
   ]
  },
  {
   "cell_type": "code",
   "execution_count": 62,
   "metadata": {},
   "outputs": [],
   "source": [
    "train.loc[train[\"Credit Score\"].isnull(),\"Credit Score\"] = ypred"
   ]
  },
  {
   "cell_type": "code",
   "execution_count": 63,
   "metadata": {},
   "outputs": [
    {
     "name": "stdout",
     "output_type": "stream",
     "text": [
      "512\n"
     ]
    }
   ],
   "source": [
    "X = test.loc[test[\"Credit Score\"].isnull()]\n",
    "print(X.shape[0])"
   ]
  },
  {
   "cell_type": "code",
   "execution_count": 64,
   "metadata": {},
   "outputs": [
    {
     "name": "stdout",
     "output_type": "stream",
     "text": [
      "512 512\n"
     ]
    }
   ],
   "source": [
    "Y = X[\"Credit Score\"]\n",
    "X = X[[x for x in X.columns if x != 'Credit Score' and x != 'Credit Default']]\n",
    "print(X.shape[0],Y.shape[0])"
   ]
  },
  {
   "cell_type": "code",
   "execution_count": 65,
   "metadata": {},
   "outputs": [],
   "source": [
    "dummy_cols = [\"Home Ownership\",\"Years in current job\",\"Purpose\",\"Term\"]\n",
    "for col in dummy_cols:\n",
    "    X = pd.concat([X,pd.get_dummies(X[col]).iloc[:,1:]],axis=1)\n",
    "    X.drop(columns = [col],inplace=True)\n",
    "\n",
    "X.insert(25,'educational expenses',np.zeros(512))\n",
    "X.insert(29,'moving',np.zeros(512))\n",
    "X.insert(31,'renewable energy',np.zeros(512))\n",
    "X.insert(32,'small business',np.zeros(512))\n",
    "X.insert(35,'wedding',np.zeros(512))\n",
    "test_cols = X.columns"
   ]
  },
  {
   "cell_type": "code",
   "execution_count": 66,
   "metadata": {},
   "outputs": [],
   "source": [
    "X = X.values"
   ]
  },
  {
   "cell_type": "code",
   "execution_count": 67,
   "metadata": {},
   "outputs": [
    {
     "data": {
      "text/plain": [
       "array([0, 0, 0, 0, 0, 0, 0, 0, 0, 0, 0, 0, 0, 0, 0, 0, 0, 0, 0, 0, 0, 0,\n",
       "       0, 0, 0, 0, 0, 0, 0, 0, 0, 0, 0, 0, 0, 0, 0, 0, 0, 0, 0, 0, 0, 0,\n",
       "       0, 0, 0, 0, 0, 0, 0, 0, 0, 0, 0, 0, 0, 0, 0, 0, 0, 0, 0, 0, 0, 0,\n",
       "       0, 0, 0, 0, 0, 0, 0, 0, 0, 0, 0, 0, 0, 0, 0, 0, 0, 0, 0, 0, 0, 0,\n",
       "       0, 0, 0, 0, 0, 0, 0, 0, 0, 0, 0, 0, 0, 0, 0, 0, 0, 0, 0, 0, 0, 0,\n",
       "       0, 0, 0, 0, 0, 0, 0, 0, 0, 0, 0, 0, 0, 0, 0, 0, 0, 0, 0, 0, 0, 0,\n",
       "       0, 0, 0, 0, 0, 0, 0, 0, 0, 0, 0, 0, 0, 0, 0, 0, 0, 0, 0, 0, 0, 0,\n",
       "       0, 0, 0, 0, 0, 0, 0, 0, 0, 0, 0, 0, 0, 0, 0, 0, 0, 0, 0, 0, 0, 0,\n",
       "       0, 0, 0, 0, 0, 0, 0, 0, 0, 0, 0, 0, 0, 0, 0, 0, 0, 0, 0, 0, 0, 0,\n",
       "       0, 0, 0, 0, 0, 0, 0, 0, 0, 0, 0, 0, 0, 0, 0, 0, 0, 0, 0, 0, 0, 0,\n",
       "       0, 0, 0, 0, 0, 0, 0, 0, 0, 0, 0, 0, 0, 0, 0, 0, 0, 0, 0, 0, 0, 0,\n",
       "       0, 0, 0, 0, 0, 0, 0, 0, 0, 0, 0, 0, 0, 0, 0, 0, 0, 0, 0, 0, 0, 0,\n",
       "       0, 0, 0, 0, 0, 0, 0, 0, 0, 0, 0, 0, 0, 0, 0, 0, 0, 0, 0, 0, 0, 0,\n",
       "       0, 0, 0, 0, 0, 0, 0, 0, 0, 0, 0, 0, 0, 0, 0, 0, 0, 0, 0, 0, 0, 0,\n",
       "       0, 0, 0, 0, 0, 0, 0, 0, 0, 0, 0, 0, 0, 0, 0, 0, 0, 0, 0, 0, 0, 0,\n",
       "       0, 0, 0, 0, 0, 0, 0, 0, 0, 0, 0, 0, 0, 0, 0, 0, 0, 0, 0, 0, 0, 0,\n",
       "       0, 0, 0, 0, 0, 0, 0, 0, 0, 0, 0, 0, 0, 0, 0, 0, 0, 0, 0, 0, 0, 0,\n",
       "       0, 0, 0, 0, 0, 0, 0, 0, 0, 0, 0, 0, 0, 0, 0, 0, 0, 0, 0, 0, 0, 0,\n",
       "       0, 0, 0, 0, 0, 0, 0, 0, 0, 0, 0, 0, 0, 0, 0, 0, 0, 0, 0, 0, 0, 0,\n",
       "       0, 0, 0, 0, 0, 0, 0, 0, 0, 0, 0, 0, 0, 0, 0, 0, 0, 0, 0, 0, 0, 0,\n",
       "       0, 0, 0, 0, 0, 0, 0, 0, 0, 0, 0, 0, 0, 0, 0, 0, 0, 0, 0, 0, 0, 0,\n",
       "       0, 0, 0, 0, 0, 0, 0, 0, 0, 0, 0, 0, 0, 0, 0, 0, 0, 0, 0, 0, 0, 0,\n",
       "       0, 0, 0, 0, 0, 0, 0, 0, 0, 0, 0, 0, 0, 0, 0, 0, 0, 0, 0, 0, 0, 0,\n",
       "       0, 0, 0, 0, 0, 0])"
      ]
     },
     "execution_count": 67,
     "metadata": {},
     "output_type": "execute_result"
    }
   ],
   "source": [
    "ypred = knn_gs.predict(X)\n",
    "ypred"
   ]
  },
  {
   "cell_type": "code",
   "execution_count": 68,
   "metadata": {},
   "outputs": [],
   "source": [
    "for i,j in enumerate(ypred):\n",
    "    if(j==0):\n",
    "        ypred[i]=mean_low\n",
    "    else:\n",
    "        ypred[i]=mean_high"
   ]
  },
  {
   "cell_type": "code",
   "execution_count": 69,
   "metadata": {},
   "outputs": [],
   "source": [
    "test.loc[test[\"Credit Score\"].isnull(),\"Credit Score\"] = ypred"
   ]
  },
  {
   "cell_type": "code",
   "execution_count": 70,
   "metadata": {},
   "outputs": [
    {
     "data": {
      "text/plain": [
       "Home Ownership               0\n",
       "Annual Income                0\n",
       "Years in current job         0\n",
       "Tax Liens                    0\n",
       "Number of Open Accounts      0\n",
       "Years of Credit History      0\n",
       "Maximum Open Credit          0\n",
       "Number of Credit Problems    0\n",
       "Bankruptcies                 0\n",
       "Purpose                      0\n",
       "Term                         0\n",
       "Current Loan Amount          0\n",
       "Current Credit Balance       0\n",
       "Monthly Debt                 0\n",
       "Credit Score                 0\n",
       "Credit Default               0\n",
       "dtype: int64"
      ]
     },
     "execution_count": 70,
     "metadata": {},
     "output_type": "execute_result"
    }
   ],
   "source": [
    "train.isnull().sum()"
   ]
  },
  {
   "cell_type": "code",
   "execution_count": 71,
   "metadata": {},
   "outputs": [
    {
     "data": {
      "text/plain": [
       "Home Ownership               0\n",
       "Annual Income                0\n",
       "Years in current job         0\n",
       "Tax Liens                    0\n",
       "Number of Open Accounts      0\n",
       "Years of Credit History      0\n",
       "Maximum Open Credit          0\n",
       "Number of Credit Problems    0\n",
       "Bankruptcies                 0\n",
       "Purpose                      0\n",
       "Term                         0\n",
       "Current Loan Amount          0\n",
       "Current Credit Balance       0\n",
       "Monthly Debt                 0\n",
       "Credit Score                 0\n",
       "dtype: int64"
      ]
     },
     "execution_count": 71,
     "metadata": {},
     "output_type": "execute_result"
    }
   ],
   "source": [
    "test.isnull().sum()"
   ]
  },
  {
   "cell_type": "code",
   "execution_count": 72,
   "metadata": {},
   "outputs": [],
   "source": [
    "#THE DATA IS NOW CLEAN"
   ]
  }
 ],
 "metadata": {
  "kernelspec": {
   "display_name": "Python 3",
   "language": "python",
   "name": "python3"
  },
  "language_info": {
   "codemirror_mode": {
    "name": "ipython",
    "version": 3
   },
   "file_extension": ".py",
   "mimetype": "text/x-python",
   "name": "python",
   "nbconvert_exporter": "python",
   "pygments_lexer": "ipython3",
   "version": "3.6.2"
  }
 },
 "nbformat": 4,
 "nbformat_minor": 4
}
