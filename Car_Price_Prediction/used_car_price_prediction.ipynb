{
 "cells": [
  {
   "cell_type": "code",
   "execution_count": 39,
   "metadata": {},
   "outputs": [],
   "source": [
    "import pandas as pd\n",
    "import numpy as np\n",
    "import matplotlib.pyplot as plt\n",
    "import seaborn as sns"
   ]
  },
  {
   "cell_type": "markdown",
   "metadata": {},
   "source": [
    "#### FETCHING DATA"
   ]
  },
  {
   "cell_type": "code",
   "execution_count": 40,
   "metadata": {},
   "outputs": [],
   "source": [
    "xtrain = pd.read_csv(\"X_train.csv\")\n",
    "xtest = pd.read_csv(\"X_test.csv\")\n",
    "ytrain = pd.read_csv(\"Y_train.csv\")"
   ]
  },
  {
   "cell_type": "code",
   "execution_count": 41,
   "metadata": {},
   "outputs": [
    {
     "data": {
      "text/html": [
       "<div>\n",
       "<style scoped>\n",
       "    .dataframe tbody tr th:only-of-type {\n",
       "        vertical-align: middle;\n",
       "    }\n",
       "\n",
       "    .dataframe tbody tr th {\n",
       "        vertical-align: top;\n",
       "    }\n",
       "\n",
       "    .dataframe thead th {\n",
       "        text-align: right;\n",
       "    }\n",
       "</style>\n",
       "<table border=\"1\" class=\"dataframe\">\n",
       "  <thead>\n",
       "    <tr style=\"text-align: right;\">\n",
       "      <th></th>\n",
       "      <th>id</th>\n",
       "      <th>brand</th>\n",
       "      <th>year</th>\n",
       "      <th>age</th>\n",
       "      <th>engine_size</th>\n",
       "      <th>power</th>\n",
       "      <th>mileage</th>\n",
       "      <th>prev_owners</th>\n",
       "      <th>value</th>\n",
       "    </tr>\n",
       "  </thead>\n",
       "  <tbody>\n",
       "    <tr>\n",
       "      <th>0</th>\n",
       "      <td>id_11042</td>\n",
       "      <td>bmw</td>\n",
       "      <td>2016</td>\n",
       "      <td>2</td>\n",
       "      <td>3500</td>\n",
       "      <td>272.0</td>\n",
       "      <td>4751.0</td>\n",
       "      <td>0</td>\n",
       "      <td>24350.0</td>\n",
       "    </tr>\n",
       "    <tr>\n",
       "      <th>1</th>\n",
       "      <td>id_7042</td>\n",
       "      <td>ford</td>\n",
       "      <td>2009</td>\n",
       "      <td>9</td>\n",
       "      <td>1400</td>\n",
       "      <td>96.0</td>\n",
       "      <td>59288.0</td>\n",
       "      <td>2</td>\n",
       "      <td>100.0</td>\n",
       "    </tr>\n",
       "    <tr>\n",
       "      <th>2</th>\n",
       "      <td>id_1420</td>\n",
       "      <td>vw</td>\n",
       "      <td>2014</td>\n",
       "      <td>4</td>\n",
       "      <td>3600</td>\n",
       "      <td>252.0</td>\n",
       "      <td>13387.0</td>\n",
       "      <td>0</td>\n",
       "      <td>15500.0</td>\n",
       "    </tr>\n",
       "    <tr>\n",
       "      <th>3</th>\n",
       "      <td>id_64357</td>\n",
       "      <td>ford</td>\n",
       "      <td>2012</td>\n",
       "      <td>6</td>\n",
       "      <td>2200</td>\n",
       "      <td>150.0</td>\n",
       "      <td>3194.0</td>\n",
       "      <td>0</td>\n",
       "      <td>5950.0</td>\n",
       "    </tr>\n",
       "    <tr>\n",
       "      <th>4</th>\n",
       "      <td>id_79541</td>\n",
       "      <td>kia</td>\n",
       "      <td>2011</td>\n",
       "      <td>7</td>\n",
       "      <td>1200</td>\n",
       "      <td>80.0</td>\n",
       "      <td>2645.0</td>\n",
       "      <td>0</td>\n",
       "      <td>4600.0</td>\n",
       "    </tr>\n",
       "  </tbody>\n",
       "</table>\n",
       "</div>"
      ],
      "text/plain": [
       "         id brand  year  age  engine_size  power  mileage  prev_owners  \\\n",
       "0  id_11042   bmw  2016    2         3500  272.0   4751.0            0   \n",
       "1   id_7042  ford  2009    9         1400   96.0  59288.0            2   \n",
       "2   id_1420    vw  2014    4         3600  252.0  13387.0            0   \n",
       "3  id_64357  ford  2012    6         2200  150.0   3194.0            0   \n",
       "4  id_79541   kia  2011    7         1200   80.0   2645.0            0   \n",
       "\n",
       "     value  \n",
       "0  24350.0  \n",
       "1    100.0  \n",
       "2  15500.0  \n",
       "3   5950.0  \n",
       "4   4600.0  "
      ]
     },
     "execution_count": 41,
     "metadata": {},
     "output_type": "execute_result"
    }
   ],
   "source": [
    "df = pd.concat([xtrain,ytrain[\"value\"]],axis=1)\n",
    "df.head()"
   ]
  },
  {
   "cell_type": "markdown",
   "metadata": {},
   "source": [
    "#### HANDLING MISSING VALUES"
   ]
  },
  {
   "cell_type": "code",
   "execution_count": 42,
   "metadata": {},
   "outputs": [
    {
     "data": {
      "text/plain": [
       "id             0\n",
       "brand          0\n",
       "year           0\n",
       "age            0\n",
       "engine_size    0\n",
       "power          0\n",
       "mileage        0\n",
       "prev_owners    0\n",
       "value          0\n",
       "dtype: int64"
      ]
     },
     "execution_count": 42,
     "metadata": {},
     "output_type": "execute_result"
    }
   ],
   "source": [
    "df.isnull().sum()"
   ]
  },
  {
   "cell_type": "code",
   "execution_count": 43,
   "metadata": {},
   "outputs": [
    {
     "data": {
      "text/plain": [
       "id             0\n",
       "brand          0\n",
       "year           0\n",
       "age            0\n",
       "engine_size    0\n",
       "power          0\n",
       "mileage        0\n",
       "prev_owners    0\n",
       "dtype: int64"
      ]
     },
     "execution_count": 43,
     "metadata": {},
     "output_type": "execute_result"
    }
   ],
   "source": [
    "xtest.isnull().sum()"
   ]
  },
  {
   "cell_type": "markdown",
   "metadata": {},
   "source": [
    "NO MISSING VALUES"
   ]
  },
  {
   "cell_type": "markdown",
   "metadata": {},
   "source": [
    "#### DATA PREPROCESSING AND FEATURE ENGINEERING"
   ]
  },
  {
   "cell_type": "code",
   "execution_count": 44,
   "metadata": {},
   "outputs": [
    {
     "data": {
      "text/plain": [
       "(70000, 9)"
      ]
     },
     "execution_count": 44,
     "metadata": {},
     "output_type": "execute_result"
    }
   ],
   "source": [
    "df.shape"
   ]
  },
  {
   "cell_type": "code",
   "execution_count": 45,
   "metadata": {},
   "outputs": [
    {
     "data": {
      "text/plain": [
       "(30000, 8)"
      ]
     },
     "execution_count": 45,
     "metadata": {},
     "output_type": "execute_result"
    }
   ],
   "source": [
    "xtest.shape"
   ]
  },
  {
   "cell_type": "code",
   "execution_count": 46,
   "metadata": {},
   "outputs": [
    {
     "data": {
      "text/plain": [
       "70000"
      ]
     },
     "execution_count": 46,
     "metadata": {},
     "output_type": "execute_result"
    }
   ],
   "source": [
    "len(df[\"id\"].unique())"
   ]
  },
  {
   "cell_type": "code",
   "execution_count": 47,
   "metadata": {},
   "outputs": [
    {
     "data": {
      "text/html": [
       "<div>\n",
       "<style scoped>\n",
       "    .dataframe tbody tr th:only-of-type {\n",
       "        vertical-align: middle;\n",
       "    }\n",
       "\n",
       "    .dataframe tbody tr th {\n",
       "        vertical-align: top;\n",
       "    }\n",
       "\n",
       "    .dataframe thead th {\n",
       "        text-align: right;\n",
       "    }\n",
       "</style>\n",
       "<table border=\"1\" class=\"dataframe\">\n",
       "  <thead>\n",
       "    <tr style=\"text-align: right;\">\n",
       "      <th></th>\n",
       "      <th>brand</th>\n",
       "      <th>year</th>\n",
       "      <th>age</th>\n",
       "      <th>engine_size</th>\n",
       "      <th>power</th>\n",
       "      <th>mileage</th>\n",
       "      <th>prev_owners</th>\n",
       "      <th>value</th>\n",
       "    </tr>\n",
       "  </thead>\n",
       "  <tbody>\n",
       "    <tr>\n",
       "      <th>0</th>\n",
       "      <td>bmw</td>\n",
       "      <td>2016</td>\n",
       "      <td>2</td>\n",
       "      <td>3500</td>\n",
       "      <td>272.0</td>\n",
       "      <td>4751.0</td>\n",
       "      <td>0</td>\n",
       "      <td>24350.0</td>\n",
       "    </tr>\n",
       "    <tr>\n",
       "      <th>1</th>\n",
       "      <td>ford</td>\n",
       "      <td>2009</td>\n",
       "      <td>9</td>\n",
       "      <td>1400</td>\n",
       "      <td>96.0</td>\n",
       "      <td>59288.0</td>\n",
       "      <td>2</td>\n",
       "      <td>100.0</td>\n",
       "    </tr>\n",
       "    <tr>\n",
       "      <th>2</th>\n",
       "      <td>vw</td>\n",
       "      <td>2014</td>\n",
       "      <td>4</td>\n",
       "      <td>3600</td>\n",
       "      <td>252.0</td>\n",
       "      <td>13387.0</td>\n",
       "      <td>0</td>\n",
       "      <td>15500.0</td>\n",
       "    </tr>\n",
       "    <tr>\n",
       "      <th>3</th>\n",
       "      <td>ford</td>\n",
       "      <td>2012</td>\n",
       "      <td>6</td>\n",
       "      <td>2200</td>\n",
       "      <td>150.0</td>\n",
       "      <td>3194.0</td>\n",
       "      <td>0</td>\n",
       "      <td>5950.0</td>\n",
       "    </tr>\n",
       "    <tr>\n",
       "      <th>4</th>\n",
       "      <td>kia</td>\n",
       "      <td>2011</td>\n",
       "      <td>7</td>\n",
       "      <td>1200</td>\n",
       "      <td>80.0</td>\n",
       "      <td>2645.0</td>\n",
       "      <td>0</td>\n",
       "      <td>4600.0</td>\n",
       "    </tr>\n",
       "  </tbody>\n",
       "</table>\n",
       "</div>"
      ],
      "text/plain": [
       "  brand  year  age  engine_size  power  mileage  prev_owners    value\n",
       "0   bmw  2016    2         3500  272.0   4751.0            0  24350.0\n",
       "1  ford  2009    9         1400   96.0  59288.0            2    100.0\n",
       "2    vw  2014    4         3600  252.0  13387.0            0  15500.0\n",
       "3  ford  2012    6         2200  150.0   3194.0            0   5950.0\n",
       "4   kia  2011    7         1200   80.0   2645.0            0   4600.0"
      ]
     },
     "execution_count": 47,
     "metadata": {},
     "output_type": "execute_result"
    }
   ],
   "source": [
    "#70000 unique values . Clearly no correlation with value. Drop the column\n",
    "df= df[[x for x in df.columns if x!=\"id\"]]\n",
    "df.head()"
   ]
  },
  {
   "cell_type": "code",
   "execution_count": 48,
   "metadata": {},
   "outputs": [
    {
     "data": {
      "text/plain": [
       "5"
      ]
     },
     "execution_count": 48,
     "metadata": {},
     "output_type": "execute_result"
    }
   ],
   "source": [
    "len(df[\"brand\"].unique())"
   ]
  },
  {
   "cell_type": "code",
   "execution_count": 49,
   "metadata": {},
   "outputs": [
    {
     "data": {
      "text/plain": [
       "<matplotlib.axes._subplots.AxesSubplot at 0x23b21c7fa58>"
      ]
     },
     "execution_count": 49,
     "metadata": {},
     "output_type": "execute_result"
    },
    {
     "data": {
      "image/png": "[encoded data removed]",
      "text/plain": [
       "<Figure size 432x288 with 1 Axes>"
      ]
     },
     "metadata": {
      "needs_background": "light"
     },
     "output_type": "display_data"
    }
   ],
   "source": [
    "sns.boxplot(x=\"brand\",y=\"value\",data = df)"
   ]
  },
  {
   "cell_type": "code",
   "execution_count": 50,
   "metadata": {},
   "outputs": [],
   "source": [
    "#the brand is an important feature in prediction of price"
   ]
  },
  {
   "cell_type": "code",
   "execution_count": 51,
   "metadata": {},
   "outputs": [],
   "source": [
    "#next we have year"
   ]
  },
  {
   "cell_type": "code",
   "execution_count": 52,
   "metadata": {},
   "outputs": [
    {
     "data": {
      "text/plain": [
       "<matplotlib.axes._subplots.AxesSubplot at 0x23b2a3f1908>"
      ]
     },
     "execution_count": 52,
     "metadata": {},
     "output_type": "execute_result"
    },
    {
     "data": {
      "image/png": "[encoded data removed]",
      "text/plain": [
       "<Figure size 432x288 with 1 Axes>"
      ]
     },
     "metadata": {
      "needs_background": "light"
     },
     "output_type": "display_data"
    }
   ],
   "source": [
    "sns.boxplot(x=\"year\",y=\"value\",data=df)"
   ]
  },
  {
   "cell_type": "code",
   "execution_count": 53,
   "metadata": {},
   "outputs": [],
   "source": [
    "#newer cars can be seen to have a higher price\n",
    "#if we see, age and year features give the same info, therefore they will have a high correlation value\n",
    "# let's check"
   ]
  },
  {
   "cell_type": "code",
   "execution_count": 54,
   "metadata": {},
   "outputs": [
    {
     "data": {
      "text/plain": [
       "[<matplotlib.lines.Line2D at 0x23b28953e48>]"
      ]
     },
     "execution_count": 54,
     "metadata": {},
     "output_type": "execute_result"
    },
    {
     "data": {
      "image/png": "[encoded data removed]",
      "text/plain": [
       "<Figure size 432x288 with 1 Axes>"
      ]
     },
     "metadata": {
      "needs_background": "light"
     },
     "output_type": "display_data"
    }
   ],
   "source": [
    "plt.plot(df[\"year\"],df[\"age\"])"
   ]
  },
  {
   "cell_type": "code",
   "execution_count": 56,
   "metadata": {},
   "outputs": [
    {
     "data": {
      "text/html": [
       "<div>\n",
       "<style scoped>\n",
       "    .dataframe tbody tr th:only-of-type {\n",
       "        vertical-align: middle;\n",
       "    }\n",
       "\n",
       "    .dataframe tbody tr th {\n",
       "        vertical-align: top;\n",
       "    }\n",
       "\n",
       "    .dataframe thead th {\n",
       "        text-align: right;\n",
       "    }\n",
       "</style>\n",
       "<table border=\"1\" class=\"dataframe\">\n",
       "  <thead>\n",
       "    <tr style=\"text-align: right;\">\n",
       "      <th></th>\n",
       "      <th>brand</th>\n",
       "      <th>age</th>\n",
       "      <th>engine_size</th>\n",
       "      <th>power</th>\n",
       "      <th>mileage</th>\n",
       "      <th>prev_owners</th>\n",
       "      <th>value</th>\n",
       "    </tr>\n",
       "  </thead>\n",
       "  <tbody>\n",
       "    <tr>\n",
       "      <th>0</th>\n",
       "      <td>bmw</td>\n",
       "      <td>2</td>\n",
       "      <td>3500</td>\n",
       "      <td>272.0</td>\n",
       "      <td>4751.0</td>\n",
       "      <td>0</td>\n",
       "      <td>24350.0</td>\n",
       "    </tr>\n",
       "    <tr>\n",
       "      <th>1</th>\n",
       "      <td>ford</td>\n",
       "      <td>9</td>\n",
       "      <td>1400</td>\n",
       "      <td>96.0</td>\n",
       "      <td>59288.0</td>\n",
       "      <td>2</td>\n",
       "      <td>100.0</td>\n",
       "    </tr>\n",
       "    <tr>\n",
       "      <th>2</th>\n",
       "      <td>vw</td>\n",
       "      <td>4</td>\n",
       "      <td>3600</td>\n",
       "      <td>252.0</td>\n",
       "      <td>13387.0</td>\n",
       "      <td>0</td>\n",
       "      <td>15500.0</td>\n",
       "    </tr>\n",
       "    <tr>\n",
       "      <th>3</th>\n",
       "      <td>ford</td>\n",
       "      <td>6</td>\n",
       "      <td>2200</td>\n",
       "      <td>150.0</td>\n",
       "      <td>3194.0</td>\n",
       "      <td>0</td>\n",
       "      <td>5950.0</td>\n",
       "    </tr>\n",
       "    <tr>\n",
       "      <th>4</th>\n",
       "      <td>kia</td>\n",
       "      <td>7</td>\n",
       "      <td>1200</td>\n",
       "      <td>80.0</td>\n",
       "      <td>2645.0</td>\n",
       "      <td>0</td>\n",
       "      <td>4600.0</td>\n",
       "    </tr>\n",
       "  </tbody>\n",
       "</table>\n",
       "</div>"
      ],
      "text/plain": [
       "  brand  age  engine_size  power  mileage  prev_owners    value\n",
       "0   bmw    2         3500  272.0   4751.0            0  24350.0\n",
       "1  ford    9         1400   96.0  59288.0            2    100.0\n",
       "2    vw    4         3600  252.0  13387.0            0  15500.0\n",
       "3  ford    6         2200  150.0   3194.0            0   5950.0\n",
       "4   kia    7         1200   80.0   2645.0            0   4600.0"
      ]
     },
     "execution_count": 56,
     "metadata": {},
     "output_type": "execute_result"
    }
   ],
   "source": [
    "# so we will remove one of these columns. let's remove year\n",
    "df.drop(columns=[\"year\"],inplace=True)\n",
    "df.head()"
   ]
  },
  {
   "cell_type": "code",
   "execution_count": null,
   "metadata": {},
   "outputs": [],
   "source": []
  }
 ],
 "metadata": {
  "kernelspec": {
   "display_name": "Python 3",
   "language": "python",
   "name": "python3"
  },
  "language_info": {
   "codemirror_mode": {
    "name": "ipython",
    "version": 3
   },
   "file_extension": ".py",
   "mimetype": "text/x-python",
   "name": "python",
   "nbconvert_exporter": "python",
   "pygments_lexer": "ipython3",
   "version": "3.6.2"
  }
 },
 "nbformat": 4,
 "nbformat_minor": 2
}
